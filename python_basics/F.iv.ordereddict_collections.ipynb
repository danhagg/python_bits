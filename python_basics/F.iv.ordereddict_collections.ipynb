{
 "cells": [
  {
   "cell_type": "markdown",
   "metadata": {},
   "source": [
    "### collections.OrderedDict([items])\n",
    "```python\n",
    "oDict = OrderedDict(sorted(d.items(), key=lambda t: len(t[0])))\n",
    "list(reversed(oDict.items()))\n",
    "oDict.popitem(last=False)\n",
    "oDict.move_to_end(key='banana')\n",
    "```"
   ]
  },
  {
   "cell_type": "code",
   "execution_count": 6,
   "metadata": {},
   "outputs": [
    {
     "name": "stdout",
     "output_type": "stream",
     "text": [
      "key_sorted OrderedDict([('apple', 4), ('banana', 3), ('orange', 2), ('pear', 1)])\n",
      "value_sorted OrderedDict([('pear', 1), ('orange', 2), ('banana', 3), ('apple', 4)])\n",
      "key_length OrderedDict([('pear', 1), ('apple', 4), ('banana', 3), ('orange', 2)])\n"
     ]
    }
   ],
   "source": [
    "from collections import OrderedDict\n",
    "\n",
    "# regular unsorted dictionary\n",
    "d = {'banana': 3, 'apple': 4, 'pear': 1, 'orange': 2}\n",
    "\n",
    "# dictionary sorted by key\n",
    "print(\"key_sorted\", OrderedDict(sorted(d.items(), key=lambda t: t[0])))\n",
    "\n",
    "# dictionary sorted by value\n",
    "print(\"value_sorted\", OrderedDict(sorted(d.items(), key=lambda t: t[1])))\n",
    "\n",
    "# dictionary sorted by length of the key string\n",
    "print(\"key_length\", OrderedDict(sorted(d.items(), key=lambda t: len(t[0]))))"
   ]
  },
  {
   "cell_type": "code",
   "execution_count": 11,
   "metadata": {},
   "outputs": [
    {
     "name": "stdout",
     "output_type": "stream",
     "text": [
      "OrderedDict([('pear', 1), ('apple', 4), ('banana', 3), ('orange', 2)])\n",
      "[('orange', 2), ('banana', 3), ('apple', 4), ('pear', 1)]\n"
     ]
    }
   ],
   "source": [
    "# reversed\n",
    "oDict = OrderedDict(sorted(d.items(), key=lambda t: len(t[0])))\n",
    "print(oDict)\n",
    "print(list(reversed(oDict.items())))"
   ]
  },
  {
   "cell_type": "code",
   "execution_count": 12,
   "metadata": {},
   "outputs": [
    {
     "name": "stdout",
     "output_type": "stream",
     "text": [
      "OrderedDict([('pear', 1), ('apple', 4), ('banana', 3), ('orange', 2)])\n",
      "('pear', 1)\n"
     ]
    }
   ],
   "source": [
    "print(oDict)\n",
    "print(oDict.popitem(last=False))"
   ]
  },
  {
   "cell_type": "code",
   "execution_count": 13,
   "metadata": {},
   "outputs": [
    {
     "name": "stdout",
     "output_type": "stream",
     "text": [
      "OrderedDict([('apple', 4), ('banana', 3), ('orange', 2)])\n",
      "OrderedDict([('apple', 4), ('orange', 2), ('banana', 3)])\n"
     ]
    }
   ],
   "source": [
    "print(oDict)\n",
    "oDict.move_to_end(key='banana')\n",
    "print(oDict)"
   ]
  },
  {
   "cell_type": "code",
   "execution_count": null,
   "metadata": {},
   "outputs": [],
   "source": []
  }
 ],
 "metadata": {
  "kernelspec": {
   "display_name": "Python 3",
   "language": "python",
   "name": "python3"
  },
  "language_info": {
   "codemirror_mode": {
    "name": "ipython",
    "version": 3
   },
   "file_extension": ".py",
   "mimetype": "text/x-python",
   "name": "python",
   "nbconvert_exporter": "python",
   "pygments_lexer": "ipython3",
   "version": "3.6.2"
  }
 },
 "nbformat": 4,
 "nbformat_minor": 2
}
