{
 "cells": [
  {
   "cell_type": "code",
   "execution_count": 1,
   "metadata": {},
   "outputs": [
    {
     "name": "stdout",
     "output_type": "stream",
     "text": [
      "accumulate(['a', 'b', 'c']) =  ['a', 'ab', 'abc']\n",
      "accumulate(range(3, 6), lambda x,y: x*y) =  [3, 12, 60]\n",
      "chain([1,2], 'abc', [1,2]) =  [1, 2, 'a', 'b', 'c', 1, 2]\n",
      "[(1, 2), (1, 3), (1, 'ab'), (2, 3), (2, 'ab'), (3, 'ab')]\n",
      "[(1, 1), (1, 2), (1, 3), (1, 'ab'), (2, 2), (2, 3), (2, 'ab'), (3, 3), (3, 'ab'), ('ab', 'ab')]\n",
      "[(1, 2), (1, 3), (1, 'ab'), (2, 1), (2, 3), (2, 'ab'), (3, 1), (3, 2), (3, 'ab'), ('ab', 1), ('ab', 2), ('ab', 3)]\n",
      "['a', 'c']\n",
      "5,7,9,11,\n",
      "A,B,C,A,\n",
      "[0, 1, 4, 9, 16, 25, 36, 49, 64, 81]\n",
      "[4, 5, 6, 7, 8, 9]\n",
      "[0, 1, 2, 3]\n",
      "[(1, 'a'), (2, 'b'), (3, 'FILLER')]\n",
      "[<itertools._tee object at 0x106aced48>, <itertools._tee object at 0x106aced08>] [1, 2, 3]\n"
     ]
    }
   ],
   "source": [
    "from itertools import *\n",
    "# itertools.accumulate(iterable[, func])\n",
    "# Make an iterator that returns accumulated sums, or accumulated results of other binary functions\n",
    "c = accumulate(['a', 'b', 'c'])\n",
    "print(\"accumulate(['a', 'b', 'c']) = \", list(c))\n",
    "\n",
    "d = accumulate(range(3, 6), lambda x,y: x*y)\n",
    "print(\"accumulate(range(3, 6), lambda x,y: x*y) = \", list(d))\n",
    "\n",
    "# itertools.chain(*iterables)\n",
    "# passing two iterables as arguments only flattens the first level\n",
    "print(\"chain([1,2], 'abc', [1,2]) = \", list(chain([1,2], 'abc', [1,2])))\n",
    "\n",
    "# itertools.combinations(iterable, r)\n",
    "# Return r length subsequences of elements from the input iterable.\n",
    "# Combinations are emitted in lexicographic sort order.\n",
    "# Elements are treated as unique based on their position, not on their value. \n",
    "# So if the input elements are unique, there will be no repeat values in each combination.\n",
    "c = combinations([1,2,3,('ab')], 2)\n",
    "print(list(c))\n",
    "\n",
    "# itertools.combinations_with_replacement(iterable, r)\n",
    "c = combinations_with_replacement([1,2,3,('ab')], 2)\n",
    "print(list(c))\n",
    "\n",
    "# permutations(iterable, r)\n",
    "c = permutations([1,2,3,('ab')], 2)\n",
    "print(list(c))\n",
    "\n",
    "# itertools.compress(data, selectors)\n",
    "x = 'abc'\n",
    "sel = (True, False, True)\n",
    "print(list(compress(x, sel)))\n",
    "\n",
    "# count(start=0, step=1) ... infinite\n",
    "c = count(5, 2)\n",
    "for i in range(4):\n",
    "    print(next(c), end=\",\")\n",
    "print()\n",
    "\n",
    "# cycle(iterable) ... infinite\n",
    "c = cycle('ABC')\n",
    "for i in range(4):\n",
    "    print(next(c), end=\",\")\n",
    "\n",
    "print()\n",
    "# repeat(object[, times])\n",
    "# Used as argument to map() for invariant parameters to the called function. \n",
    "# Also used with zip() to create an invariant part of a tuple record.\n",
    "# A common use for repeat is to supply a stream of constant values to map or zip:\n",
    "print(list(map(pow, range(10), repeat(2))))\n",
    "\n",
    "# itertools.dropwhile(predicate, iterable)\n",
    "print(list(dropwhile(lambda x: x < 4, range(10))))\n",
    "\n",
    "# takewhile(predicate, iterable)\n",
    "print(list(takewhile(lambda x: x < 4, range(10))))\n",
    "\n",
    "# zip_longest(*iterables, fillvalue=None)¶\n",
    "c = zip_longest([1,2,3], ['a', 'b'], fillvalue='FILLER')\n",
    "print(list(c))\n",
    "\n",
    "# tee(iterable, n=2)\n",
    "c = tee([1,2,3], 2)\n",
    "print(list(c), list(c[1]))"
   ]
  },
  {
   "cell_type": "code",
   "execution_count": null,
   "metadata": {},
   "outputs": [],
   "source": []
  }
 ],
 "metadata": {
  "kernelspec": {
   "display_name": "Python 3",
   "language": "python",
   "name": "python3"
  },
  "language_info": {
   "codemirror_mode": {
    "name": "ipython",
    "version": 3
   },
   "file_extension": ".py",
   "mimetype": "text/x-python",
   "name": "python",
   "nbconvert_exporter": "python",
   "pygments_lexer": "ipython3",
   "version": "3.6.2"
  }
 },
 "nbformat": 4,
 "nbformat_minor": 2
}
