{
 "cells": [
  {
   "cell_type": "markdown",
   "metadata": {},
   "source": [
    "Functions as objects"
   ]
  },
  {
   "cell_type": "code",
   "execution_count": 1,
   "metadata": {},
   "outputs": [
    {
     "data": {
      "text/plain": [
       "['lime', 'banana', 'pineapple']"
      ]
     },
     "execution_count": 1,
     "metadata": {},
     "output_type": "execute_result"
    }
   ],
   "source": [
    "fruits = ['banana', 'pineapple', 'lime']\n",
    "sorted(fruits, key=len)"
   ]
  },
  {
   "cell_type": "code",
   "execution_count": 12,
   "metadata": {},
   "outputs": [
    {
     "data": {
      "text/plain": [
       "[0, 1, 1, 2, 3, 5, 8, 13]"
      ]
     },
     "execution_count": 12,
     "metadata": {},
     "output_type": "execute_result"
    }
   ],
   "source": [
    "# Takes in n as an int (n:int) and return an int (-> int)\n",
    "# fibonacci.__annotations__\n",
    "# fibonacci.__doc__\n",
    "# fibonacci.__code__.co_varnames\n",
    "def fibonacci(n:int) -> int:\n",
    "    '''returns the nth fibonacci number'''\n",
    "    a,b = 0, 1\n",
    "    while n > 0:\n",
    "        a, b = b, a + b\n",
    "        n -=1\n",
    "    return a\n",
    "[fibonacci(n) for n in range(8)]"
   ]
  },
  {
   "cell_type": "code",
   "execution_count": 19,
   "metadata": {},
   "outputs": [],
   "source": [
    "# Functions have attributes\n",
    "dir (fibonacci)"
   ]
  },
  {
   "cell_type": "markdown",
   "metadata": {},
   "source": [
    "Decorator - Takes a function as an argument and returns a function\n",
    "\n",
    "Decorators may replace the decorated function with another function"
   ]
  },
  {
   "cell_type": "code",
   "execution_count": 24,
   "metadata": {},
   "outputs": [
    {
     "data": {
      "text/plain": [
       "'inner result'"
      ]
     },
     "execution_count": 24,
     "metadata": {},
     "output_type": "execute_result"
    }
   ],
   "source": [
    "def deco(f):\n",
    "    def inner():\n",
    "        return 'inner result'\n",
    "    return inner\n",
    "\n",
    "@deco\n",
    "def target():\n",
    "    return 'original result'\n",
    "target()"
   ]
  },
  {
   "cell_type": "markdown",
   "metadata": {},
   "source": [
    "Decorators runs at import time == when a module is loaded"
   ]
  },
  {
   "cell_type": "markdown",
   "metadata": {},
   "source": [
    "# Registration decorators\n",
    "Goal: Register decorated functions in a global application registry\n",
    "\n",
    "Typical use case: register view functions in Web framework"
   ]
  },
  {
   "cell_type": "code",
   "execution_count": null,
   "metadata": {},
   "outputs": [],
   "source": []
  }
 ],
 "metadata": {
  "kernelspec": {
   "display_name": "Python 3",
   "language": "python",
   "name": "python3"
  },
  "language_info": {
   "codemirror_mode": {
    "name": "ipython",
    "version": 3
   },
   "file_extension": ".py",
   "mimetype": "text/x-python",
   "name": "python",
   "nbconvert_exporter": "python",
   "pygments_lexer": "ipython3",
   "version": "3.6.2"
  }
 },
 "nbformat": 4,
 "nbformat_minor": 2
}
