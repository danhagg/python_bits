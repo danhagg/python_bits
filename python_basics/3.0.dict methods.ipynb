{
 "cells": [
  {
   "cell_type": "markdown",
   "metadata": {},
   "source": [
    "# dict methods\n",
    "```python\n",
    "myDict = dict.fromkeys(iterable, value=None, /) # dict from a list all values=None\n",
    "del[myDict[key]] # delete item\n",
    "myDict.update(y = 3, z = 0) # update, use a dict or tuple pair\n",
    "myDict.popitem() # popitem() takes no argument\n",
    "myDict.pop(key[, default])\n",
    "myDict.get(key[, value]) # get the value or returns None or default\n",
    "myDict.setdefault('knobber', 'balls') # dict.setdefault(key[, def_val]) \n",
    "```"
   ]
  },
  {
   "cell_type": "code",
   "execution_count": 12,
   "metadata": {},
   "outputs": [
    {
     "name": "stdout",
     "output_type": "stream",
     "text": [
      "dict.fromkeys(range(3)) =  {0: None, 1: None, 2: None}\n",
      "del[a[2]] =  {0: None, 1: None}\n",
      "a.update(y = 3, z = 0) =  dict_items([(0, None), (1, None), ('y', 3), ('z', 0)])\n",
      "popeye = a.popitem() =  ('z', 0)\n",
      "pop = a.pop('f', 3) =  3\n",
      "a.get('f', [5, 4]) =  [5, 4]\n",
      "a.setdefault('knobber', 'balls') =  {0: None, 1: None, 'y': 3, 'knobber': 'balls'}\n"
     ]
    }
   ],
   "source": [
    "# .fromkeys(seq [, value]) \n",
    "# Creates a dictionary from a sequence (list, tuple, set) + OPTIONAL value \n",
    "a = dict.fromkeys(range(3))\n",
    "print(\"dict.fromkeys(range(3)) = \", a)\n",
    "\n",
    "# delete item\n",
    "del[a[2]]\n",
    "print(\"del[a[2]] = \", a)\n",
    "\n",
    "# update, use a dict or tuple pair\n",
    "a.update(y = 3, z = 0)\n",
    "print(\"a.update(y = 3, z = 0) = \", a.items())\n",
    "\n",
    "# popitem()\n",
    "popeye = a.popitem()\n",
    "print(\"popeye = a.popitem() = \", popeye)\n",
    "\n",
    "# dict.pop(key[, default])\n",
    "pop = a.pop('f', 3)\n",
    "print(\"pop = a.pop('f', 3) = \", pop)\n",
    "\n",
    "# dict.get(key[, value]) get the value or returns None or default\n",
    "b = a.get('f', [5, 4])\n",
    "print(\"a.get('f', [5, 4]) = \", b)\n",
    "\n",
    "# dict.setdefault(key[, def_val]) \n",
    "a.setdefault('knobber', 'balls')\n",
    "print(\"a.setdefault('knobber', 'balls') = \", a)"
   ]
  },
  {
   "cell_type": "code",
   "execution_count": null,
   "metadata": {},
   "outputs": [],
   "source": []
  }
 ],
 "metadata": {
  "kernelspec": {
   "display_name": "Python 3",
   "language": "python",
   "name": "python3"
  },
  "language_info": {
   "codemirror_mode": {
    "name": "ipython",
    "version": 3
   },
   "file_extension": ".py",
   "mimetype": "text/x-python",
   "name": "python",
   "nbconvert_exporter": "python",
   "pygments_lexer": "ipython3",
   "version": "3.6.2"
  }
 },
 "nbformat": 4,
 "nbformat_minor": 2
}
