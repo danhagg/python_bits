{
 "cells": [
  {
   "cell_type": "markdown",
   "metadata": {},
   "source": [
    "A.difference(B) or “-”, and A.difference_update(B)\n",
    "A.intersection(*other_sets)... can use “&” operator,\n",
    "A.symmetric_difference(B)... can also use “^” operator,\n",
    "A.union(*other_sets)... can also use the pipe operator “|”\n",
    "discard(x)\n",
    "remove(element)\n",
    "add(element)\n",
    "pop()"
   ]
  },
  {
   "cell_type": "code",
   "execution_count": null,
   "metadata": {},
   "outputs": [],
   "source": []
  }
 ],
 "metadata": {
  "kernelspec": {
   "display_name": "Python 3",
   "language": "python",
   "name": "python3"
  },
  "language_info": {
   "codemirror_mode": {
    "name": "ipython",
    "version": 3
   },
   "file_extension": ".py",
   "mimetype": "text/x-python",
   "name": "python",
   "nbconvert_exporter": "python",
   "pygments_lexer": "ipython3",
   "version": "3.6.2"
  }
 },
 "nbformat": 4,
 "nbformat_minor": 2
}
