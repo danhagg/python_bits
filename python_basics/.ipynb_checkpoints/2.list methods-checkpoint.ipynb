{
 "cells": [
  {
   "cell_type": "markdown",
   "metadata": {},
   "source": [
    "# List Methods\n",
    "```python\n",
    "L.append(object) # append object to end\n",
    "L.extend(iterable) # extend list by appending elements from the iterable\n",
    "L.insert(index, object) # insert object before index\n",
    "L.index(value, [start, [stop]]) # return first index of value.\n",
    "L.count(value) # return number of occurrences of value\n",
    "L.remove(value) # remove first occurrence of value.\n",
    "L.pop([index]) # remove and return item at index (default last)\n",
    "L.reverse() # reverse *IN PLACE*\n",
    "L.sort(key=None, reverse=False)\n",
    "```"
   ]
  },
  {
   "cell_type": "code",
   "execution_count": 1,
   "metadata": {},
   "outputs": [
    {
     "name": "stdout",
     "output_type": "stream",
     "text": [
      "append a list ['a', 'b', 'c', [1, 2, 3]]\n",
      "extend a list ['a', 'b', 'c', 1, 2, 3]\n",
      "insert an element 'z' at index 3 ['a', 'b', 'c', 'z', 1, 2, 3]\n",
      "index of an element 'a' in list equals  0\n",
      "count number of '2' in list is,  1\n",
      "remove 'b' from list ['a', 'c', 'z', 1, 2, 3]\n",
      "pop -1 removes last element from list ['a', 'c', 'z', 1, 2]\n",
      "reverse - reverses the string in place [2, 1, 'z', 'c', 'a']\n",
      "Sorted list: [(3, 4), (1, 3), (2, 2), (4, 1)]\n"
     ]
    }
   ],
   "source": [
    "l = ['a', 'b', 'c']\n",
    "l2 = [1, 2, 3]\n",
    "l.append(l2)\n",
    "print(\"append a list\", l)\n",
    "\n",
    "list1 = ['a', 'b', 'c']\n",
    "list2 = [1, 2, 3]\n",
    "list1.extend(list2)\n",
    "print(\"extend a list\", list1)\n",
    "\n",
    "# list.insert(index, element)\n",
    "list1.insert(3,'z')\n",
    "print(\"insert an element 'z' at index 3\", list1)\n",
    "\n",
    "# list1.index(element)... returns its smallest/first position\n",
    "print(\"index of an element 'a' in list equals \", list1.index('a'))\n",
    "\n",
    "# list.count(element)... can take in single elements, lists and tuples\n",
    "print(\"count number of '2' in list is, \", list1.count(2))\n",
    "\n",
    "# list.remove(element)\n",
    "list1.remove('b') \n",
    "print(\"remove 'b' from list\", list1)\n",
    "\n",
    "# list.pop(index)... optional index (can be -ve)\n",
    "list1.pop(-1)\n",
    "print(\"pop -1 removes last element from list\", list1)\n",
    "\n",
    "# list.reverse()\n",
    "list1.reverse()\n",
    "print(\"reverse - reverses the string in place\", list1)\n",
    "\n",
    "# list.sort(key=..., reverse=...)\n",
    "def takeSecond(elem):\n",
    "    return elem[1]\n",
    "\n",
    "random = [(2, 2), (3, 4), (4, 1), (1, 3)]\n",
    "random.sort(key=takeSecond, reverse=True)\n",
    "print('Sorted list:', random)"
   ]
  }
 ],
 "metadata": {
  "kernelspec": {
   "display_name": "Python 3",
   "language": "python",
   "name": "python3"
  },
  "language_info": {
   "codemirror_mode": {
    "name": "ipython",
    "version": 3
   },
   "file_extension": ".py",
   "mimetype": "text/x-python",
   "name": "python",
   "nbconvert_exporter": "python",
   "pygments_lexer": "ipython3",
   "version": "3.6.2"
  }
 },
 "nbformat": 4,
 "nbformat_minor": 2
}
