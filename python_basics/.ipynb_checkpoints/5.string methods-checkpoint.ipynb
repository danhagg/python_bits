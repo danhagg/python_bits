{
 "cells": [
  {
   "cell_type": "code",
   "execution_count": null,
   "metadata": {},
   "outputs": [],
   "source": [
    "st = 'well, Mary, she had a little lamb!'\n",
    "\n",
    "# capitalize()\n",
    "print(\"st.capitalize() = \", st.capitalize())\n",
    "\n",
    "# count(substring, start=..., end=...)\n",
    "print(\"st.count('l', 5,-1) = \", st.count('l', 5,-1))\n",
    "\n",
    "# startswith(prefix[, start[, end]]), str.endswith(suffix[, start[, end]])\n",
    "result = st.endswith('le lamb!')\n",
    "print(\"st.endswith('le lamb!') = \", result)\n",
    "\n",
    "# str.find(sub[, start[, end]] ), rfind(sub[, start[, end]] )\n",
    "print(\"st.rfind('b') = \", st.rfind('b'))\n",
    "\n",
    "# index(sub[, start[, end]] ), rindex(sub[, start[, end]] )\n",
    "print(\"st.index('le') = \", st.index('le'))\n",
    "\n",
    "# isalnum(), isalpha(), isdigit(), isnumeric()\n",
    "print(\"st[0].isalnum() = \", st[0].isalnum())\n",
    "\n",
    "# join()\n",
    "\n",
    "\n",
    "# ljust(width[, fillchar]), rjust(width[, fillchar])\n",
    "\n",
    "\n",
    "# lower(), upper(), swapcase()\n",
    "\n",
    "\n",
    "# strip([chars]), lstrip([chars]), rstrip([chars])\n",
    "\n",
    "\n",
    "# partition(separator)\n",
    "\n",
    "\n",
    "# maketrans(x[, y[, z]]) rpartition(separator)\n",
    "\n",
    "\n",
    "# translate(table)\n",
    "\n",
    "\n",
    "# replace(old, new [, count]) \n",
    "\n",
    "\n",
    "# split([separator [, maxsplit]]) rsplit([separator [, maxsplit]]) \n",
    "\n",
    "\n",
    "# splitlines([keepends])"
   ]
  }
 ],
 "metadata": {
  "kernelspec": {
   "display_name": "Python 3",
   "language": "python",
   "name": "python3"
  },
  "language_info": {
   "codemirror_mode": {
    "name": "ipython",
    "version": 3
   },
   "file_extension": ".py",
   "mimetype": "text/x-python",
   "name": "python",
   "nbconvert_exporter": "python",
   "pygments_lexer": "ipython3",
   "version": "3.6.2"
  }
 },
 "nbformat": 4,
 "nbformat_minor": 2
}
