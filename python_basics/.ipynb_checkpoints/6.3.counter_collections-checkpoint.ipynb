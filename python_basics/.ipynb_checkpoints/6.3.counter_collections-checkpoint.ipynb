{
 "cells": [
  {
   "cell_type": "markdown",
   "metadata": {},
   "source": [
    "# collections.Counter([iterable-or-mapping])"
   ]
  },
  {
   "cell_type": "code",
   "execution_count": 2,
   "metadata": {},
   "outputs": [
    {
     "name": "stdout",
     "output_type": "stream",
     "text": [
      "Counter({'d': 4, 'c': 3, 'a': 1, 'b': 1})\n",
      "list(c.elements()) =  ['d', 'd', 'd', 'd', 'a', 'b', 'c', 'c', 'c']\n",
      "c.most_common(2) =  [('d', 4), ('c', 3)]\n",
      "c.most_common()[:-3-1:-1] =  [('b', 1), ('a', 1), ('c', 3)]\n",
      "d = c + c =  Counter({'d': 8, 'c': 6, 'a': 2, 'b': 2})\n",
      "e = d - c =  Counter({'d': 4, 'c': 3, 'a': 1, 'b': 1})\n",
      "sum(c.values()) =  9\n",
      "listc =  ['d', 'a', 'b', 'c']\n",
      "setc =  {'a', 'c', 'd', 'b'}\n",
      "dictc {'d': 4, 'a': 1, 'b': 1, 'c': 3}\n",
      "itemc dict_items([('d', 4), ('a', 1), ('b', 1), ('c', 3)])\n",
      "Counter(dict(itemc) =  Counter({'d': 4, 'c': 3, 'a': 1, 'b': 1})\n"
     ]
    }
   ],
   "source": [
    "from collections import Counter\n",
    "c = Counter(['d','d','a', 'b','c', 'd', 'c', 'd', 'c'])\n",
    "print(c)\n",
    "\n",
    "print(\"list(c.elements()) = \", list(c.elements()))\n",
    "print(\"c.most_common(2) = \", c.most_common(2))\n",
    "print(\"c.most_common()[:-3-1:-1] = \", c.most_common()[:-3-1:-1])\n",
    "d = c + c\n",
    "print(\"d = c + c = \", d)\n",
    "e = d - c\n",
    "print(\"e = d - c = \", e)\n",
    "print(\"sum(c.values()) = \", sum(c.values()))\n",
    "listc = list(c)\n",
    "print(\"listc = \", listc)\n",
    "setc = set(c)\n",
    "print(\"setc = \", setc)\n",
    "dictc = dict(c)\n",
    "print(\"dictc\", dictc)\n",
    "itemc = c.items()\n",
    "print(\"itemc\", itemc)\n",
    "print(\"Counter(dict(itemc) = \", Counter(dict(itemc)))"
   ]
  },
  {
   "cell_type": "code",
   "execution_count": null,
   "metadata": {},
   "outputs": [],
   "source": []
  }
 ],
 "metadata": {
  "kernelspec": {
   "display_name": "Python 3",
   "language": "python",
   "name": "python3"
  },
  "language_info": {
   "codemirror_mode": {
    "name": "ipython",
    "version": 3
   },
   "file_extension": ".py",
   "mimetype": "text/x-python",
   "name": "python",
   "nbconvert_exporter": "python",
   "pygments_lexer": "ipython3",
   "version": "3.6.2"
  }
 },
 "nbformat": 4,
 "nbformat_minor": 2
}
