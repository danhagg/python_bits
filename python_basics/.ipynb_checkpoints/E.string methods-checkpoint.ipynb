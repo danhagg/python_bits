{
 "cells": [
  {
   "cell_type": "markdown",
   "metadata": {},
   "source": [
    "# string methods\n",
    "```python\n",
    "S.endswith(suffix[, start[, end]]) # bool\n",
    "S.count(sub[, start[, end]]) # Return the number of non-overlapping occurrences of sub in S\n",
    "S.find(sub[, start[, end]]) # Return the low/high index in S where substring sub is found\n",
    "S.ljust(width[, fillchar]) # Return S left-justified in a Unicode string of length width\n",
    "S.join(iterable) # Return a concatenation of the strings in the iterable.  The separator between elements is S.\n",
    "S.partition(sep) # (head, sep, tail)\n",
    "S.replace(old, new[, count]) # all/count occurrences of substring old replaced by new.\n",
    "S.split(sep=None, maxsplit=-1) # list of strings\n",
    "S.splitlines([keepends]) # list of the lines in S, breaking at line boundaries unless keepends is given.\n",
    "```"
   ]
  },
  {
   "cell_type": "code",
   "execution_count": 10,
   "metadata": {},
   "outputs": [
    {
     "name": "stdout",
     "output_type": "stream",
     "text": [
      "st.count('l', 5,-1) =  4\n",
      "st.endswith('le lamb!') =  False\n",
      "st.rfind('b') =  33\n",
      "st.index('le') =  27\n",
      "st[0].isalnum() =  True\n",
      "xwell, Mary, she. had a little lamb! its fleece...xwell, Mary, she. had a little lamb! its fleece...xwell, Mary, she. had a little lamb! its fleece...xwell, Mary, she. had a little lamb! its fleece...xwell, Mary, she. had a little lamb! its fleece...x\n"
     ]
    },
    {
     "data": {
      "text/plain": [
       "<function str.splitlines>"
      ]
     },
     "execution_count": 10,
     "metadata": {},
     "output_type": "execute_result"
    }
   ],
   "source": [
    "st = 'well, Mary, she. had a little lamb! its fleece...'\n",
    "st2 = \"balls\"\n",
    "# count(substring, start=..., end=...)\n",
    "print(\"st.count('l', 5,-1) = \", st.count('l', 5,-1))\n",
    "\n",
    "# startswith(prefix[, start[, end]]), str.endswith(suffix[, start[, end]])\n",
    "result = st.endswith('le lamb!')\n",
    "print(\"st.endswith('le lamb!') = \", result)\n",
    "\n",
    "# str.find(sub[, start[, end]] ), rfind(sub[, start[, end]] )\n",
    "print(\"st.rfind('b') = \", st.find('b'))\n",
    "\n",
    "# index(sub[, start[, end]] ), rindex(sub[, start[, end]] )\n",
    "print(\"st.index('le') = \", st.index('le'))\n",
    "\n",
    "# isalnum(), isalpha(), isdigit(), isnumeric()\n",
    "print(\"st[0].isalnum() = \", st[0].isalnum())\n",
    "\n",
    "print(st.join(\"xxxxxx\"))\n",
    "st.replace\n",
    "st.splitlines\n",
    "\n",
    "# maketrans(x[, y[, z]]) rpartition(separator)\n",
    "\n",
    "\n",
    "# translate(table)\n",
    "\n",
    "\n",
    "# replace(old, new [, count]) \n",
    "\n",
    "\n",
    "# split([separator [, maxsplit]]) rsplit([separator [, maxsplit]]) \n",
    "\n",
    "\n",
    "# splitlines([keepends])"
   ]
  },
  {
   "cell_type": "code",
   "execution_count": null,
   "metadata": {},
   "outputs": [],
   "source": []
  }
 ],
 "metadata": {
  "kernelspec": {
   "display_name": "Python 3",
   "language": "python",
   "name": "python3"
  },
  "language_info": {
   "codemirror_mode": {
    "name": "ipython",
    "version": 3
   },
   "file_extension": ".py",
   "mimetype": "text/x-python",
   "name": "python",
   "nbconvert_exporter": "python",
   "pygments_lexer": "ipython3",
   "version": "3.6.2"
  }
 },
 "nbformat": 4,
 "nbformat_minor": 2
}
