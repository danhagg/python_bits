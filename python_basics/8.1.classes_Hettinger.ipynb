{
 "cells": [
  {
   "cell_type": "markdown",
   "metadata": {},
   "source": [
    "https://www.youtube.com/watch?v=HTLu2DFOdTg&t=3s"
   ]
  },
  {
   "cell_type": "code",
   "execution_count": 74,
   "metadata": {},
   "outputs": [],
   "source": [
    "from math import *\n",
    "\n",
    "\"\"\"Module Docstring here\"\"\"\n",
    "\n",
    "# calling the class makes the instance\n",
    "class Circle(object): # inherit from object -> extra capabilities\n",
    "    \"An advanced circle analytic toolkit\"\n",
    "    \n",
    "    \n",
    "    version = '0.1' # class variable\n",
    "\n",
    "    \n",
    "    # __init__ is an itializer\n",
    "    # takes an existing instance \"self\" and populates it\n",
    "    # takes radius and stores it in a dictionary\n",
    "    def __init__(self, radius):\n",
    "        self.radius = radius # instance variable (unique to each instance)\n",
    "\n",
    "        \n",
    "    # regular method - takes \"self\" as arg\n",
    "    def area(self):\n",
    "        \"Perform quadrature on a shape of uniform radius\"\n",
    "        return pi * self.radius ** 2\n",
    "      \n",
    "    def perimeter(self):\n",
    "        return 2.0 * pi * self.radius\n",
    "    \n",
    "    @classmethod # alternative constructor\n",
    "    # cls is passed to support subclassing (ie, can be called from Tire)\n",
    "    def from_bbd(cls, bbd):\n",
    "        'Construct a circle from a bounding box diagonal'\n",
    "        radius = bbd / 2.0 / math.sqrt(2.0)\n",
    "        return Circle(radius)\n",
    "    \n",
    "    @staticmethod\n",
    "    def angle_to_grade(angle):\n",
    "        'Convert angle in degree to a percentage grade'\n",
    "        return math.tan(math.radians(angle))*100.0\n",
    "          \n",
    "\n",
    "# Subclassing\n",
    "# no __init__, goes up and borrows from Circle\n",
    "class Tire(Circle):\n",
    "    \"Tires are circles with a corrected perimeter\"\n",
    "    \n",
    "    \n",
    "    # overwrites Circle perimeter, for Tire instances\n",
    "    def perimeter(self):\n",
    "        'Circumference corrected for rubber'\n",
    "        # extending, not overwriting, Circle perimeters\n",
    "        return Circle.perimeter(self) * 1.25    "
   ]
  },
  {
   "cell_type": "code",
   "execution_count": 75,
   "metadata": {},
   "outputs": [
    {
     "name": "stdout",
     "output_type": "stream",
     "text": [
      "Average is 0.484\n"
     ]
    }
   ],
   "source": [
    "from random import random, seed\n",
    "n = 5\n",
    "circles = [Circle(random()) for i in range(n)]\n",
    "avg = sum([c.area() for c in circles]) / n\n",
    "print(\"Average is %.3f\" %avg)"
   ]
  },
  {
   "cell_type": "code",
   "execution_count": 76,
   "metadata": {},
   "outputs": [
    {
     "name": "stdout",
     "output_type": "stream",
     "text": [
      "0.11000000000000001\n",
      "0.77\n",
      "0.8800000000000001\n"
     ]
    }
   ],
   "source": [
    "cuts = [0.1, 0.7, 0.8]\n",
    "circles1 = [Circle(r) for r in cuts]\n",
    "for c in circles1:\n",
    "    c.radius *= 1.1\n",
    "    print(c.radius)"
   ]
  },
  {
   "cell_type": "code",
   "execution_count": 77,
   "metadata": {},
   "outputs": [
    {
     "name": "stdout",
     "output_type": "stream",
     "text": [
      "Tire22 radius 22\n",
      "Tire22 area 1520.53084433746\n",
      "Tire22 perimeter 172.7875959474386\n",
      "circle22 perimeter 138.23007675795088\n"
     ]
    }
   ],
   "source": [
    "# Tire\n",
    "t = Tire(22)\n",
    "c2 = Circle(22)\n",
    "print(\"Tire22 radius\", t.radius)\n",
    "print(\"Tire22 area\", t.area())\n",
    "print(\"Tire22 perimeter\", t.perimeter())\n",
    "print(\"circle22 perimeter\", c2.perimeter())"
   ]
  },
  {
   "cell_type": "code",
   "execution_count": 78,
   "metadata": {},
   "outputs": [
    {
     "data": {
      "text/plain": [
       "8.7488663525924"
      ]
     },
     "execution_count": 78,
     "metadata": {},
     "output_type": "execute_result"
    }
   ],
   "source": [
    "# call the constructor\n",
    "c = Circle.from_bbd(25)\n",
    "c.angle_to_grade(5)"
   ]
  },
  {
   "cell_type": "code",
   "execution_count": 79,
   "metadata": {},
   "outputs": [
    {
     "data": {
      "text/plain": [
       "8.838834764831843"
      ]
     },
     "execution_count": 79,
     "metadata": {},
     "output_type": "execute_result"
    }
   ],
   "source": [
    "c = Tire.from_bbd(25)\n",
    "c.radius"
   ]
  },
  {
   "cell_type": "code",
   "execution_count": 80,
   "metadata": {},
   "outputs": [
    {
     "name": "stdout",
     "output_type": "stream",
     "text": [
      "Help on function angle_to_grade in module __main__:\n",
      "\n",
      "angle_to_grade(angle)\n",
      "    Convert angle in degree to a percentage grade\n",
      "\n"
     ]
    }
   ],
   "source": [
    "help(Circle.angle_to_grade)"
   ]
  },
  {
   "cell_type": "code",
   "execution_count": null,
   "metadata": {},
   "outputs": [],
   "source": []
  },
  {
   "cell_type": "code",
   "execution_count": null,
   "metadata": {},
   "outputs": [],
   "source": []
  }
 ],
 "metadata": {
  "kernelspec": {
   "display_name": "Python 3",
   "language": "python",
   "name": "python3"
  },
  "language_info": {
   "codemirror_mode": {
    "name": "ipython",
    "version": 3
   },
   "file_extension": ".py",
   "mimetype": "text/x-python",
   "name": "python",
   "nbconvert_exporter": "python",
   "pygments_lexer": "ipython3",
   "version": "3.6.2"
  }
 },
 "nbformat": 4,
 "nbformat_minor": 2
}
