{
 "cells": [
  {
   "cell_type": "markdown",
   "metadata": {},
   "source": [
    "https://www.youtube.com/watch?v=HTLu2DFOdTg&t=3s"
   ]
  },
  {
   "cell_type": "markdown",
   "metadata": {},
   "source": [
    "# Summary Toolset\n",
    "1. Inherit from `object()`\n",
    "2. `Instance variables` for information unique to an instance\n",
    "3. `Class variables` for data shared among all instances\n",
    "4. `Regular methods` need `self` to operate on instance data.\n",
    "5. `Class methods` implement alternative constructors. They need `cls` so they can create subclass instances as well.\n",
    "6. `Static methods` attach functions to classes. They dont need either `self` or `cls`. Static methods improve discoverability and require context to be specified\n",
    "7. A `property()` lets getter and setter methods be invoked automatically by attribute access. this allows Python classes to freely expose their instance variables.\n",
    "8. The `__slots__` variable implements the flyweight design pattern by suppressing instance dictionaries\n",
    "9. `__dunder` class local references"
   ]
  },
  {
   "cell_type": "code",
   "execution_count": 53,
   "metadata": {},
   "outputs": [],
   "source": [
    "from math import *\n",
    "import math\n",
    "\n",
    "\"\"\"Module Docstring here\"\"\"\n",
    "\n",
    "# calling the class makes the instance\n",
    "class Circle(object): # inherit from object -> extra capabilities\n",
    "    \"An advanced circle analytic toolkit\"\n",
    "    \n",
    "    # allocate just one pointer for the diameter - no dictionary\n",
    "    # __slots__ added at end of building code\n",
    "    # as u cant inspect dictionary when __slots__in code\n",
    "    __slots__ = ['diameter']\n",
    "    version = '0.1' # class variable\n",
    "\n",
    "    \n",
    "    # __init__ is an itializer\n",
    "    # takes an existing instance \"self\" and populates it\n",
    "    # takes radius and stores it in a dictionary\n",
    "    def __init__(self, radius):\n",
    "        self.radius = radius # instance variable (unique to each instance)\n",
    "\n",
    "    @property # convert dotted access to method calls\n",
    "    def radius(self):\n",
    "        'Radius of circle'\n",
    "        return self.diameter / 2.0\n",
    "    \n",
    "    \n",
    "    @radius.setter\n",
    "    def radius(self, radius):\n",
    "        self.diameter = radius * 2.0\n",
    "        \n",
    "        \n",
    "    # regular method - takes \"self\" as arg\n",
    "    def area(self):\n",
    "        \"Perform quadrature on a shape of uniform radius\"\n",
    "        return pi * self.radius ** 2\n",
    "      \n",
    "    def perimeter(self):\n",
    "        return 2.0 * pi * self.radius\n",
    "    \n",
    "    # class local reference\n",
    "    # dunder adds Circle\n",
    "    __perimeter = perimeter # allows the subclasser to over-ride\n",
    "    \n",
    "    @classmethod # alternative constructor\n",
    "    # cls is passed to support subclassing (ie, can be called from Tire)\n",
    "    def from_bbd(cls, bbd):\n",
    "        'Construct a circle from a bounding box diagonal'\n",
    "        radius = bbd / 2.0 / math.sqrt(2.0)\n",
    "        return Circle(radius)\n",
    "    \n",
    "    @staticmethod # attach functions to classes\n",
    "    def angle_to_grade(angle):\n",
    "        'Convert angle in degree to a percentage grade'\n",
    "        return math.tan(math.radians(angle))*100.0\n",
    "          \n",
    "\n",
    "# Subclassing\n",
    "# no __init__, goes up and borrows from Circle\n",
    "class Tire(Circle):\n",
    "    \"Tires are circles with a corrected perimeter\"\n",
    "    \n",
    "    \n",
    "    # overwrites Circle perimeter, for Tire instances\n",
    "    def perimeter(self):\n",
    "        'Circumference corrected for rubber'\n",
    "        # extending, not overwriting, Circle perimeters\n",
    "        return Circle.perimeter(self) * 1.25\n",
    "    \n",
    "    # class local reference ensures self refers to you\n",
    "    # dunder adds Tire\n",
    "    __perimeter = perimeter # allows the subclasser to over-ride"
   ]
  },
  {
   "cell_type": "code",
   "execution_count": 54,
   "metadata": {},
   "outputs": [
    {
     "name": "stdout",
     "output_type": "stream",
     "text": [
      "Average is 1.546\n"
     ]
    }
   ],
   "source": [
    "from random import random, seed\n",
    "n = 5\n",
    "circles = [Circle(random()) for i in range(n)]\n",
    "avg = sum([c.area() for c in circles]) / n\n",
    "print(\"Average is %.3f\" %avg)"
   ]
  },
  {
   "cell_type": "code",
   "execution_count": 55,
   "metadata": {},
   "outputs": [
    {
     "name": "stdout",
     "output_type": "stream",
     "text": [
      "0.11000000000000001\n",
      "0.77\n",
      "0.8800000000000001\n"
     ]
    }
   ],
   "source": [
    "cuts = [0.1, 0.7, 0.8]\n",
    "circles1 = [Circle(r) for r in cuts]\n",
    "for c in circles1:\n",
    "    c.radius *= 1.1\n",
    "    print(c.radius)"
   ]
  },
  {
   "cell_type": "code",
   "execution_count": 56,
   "metadata": {},
   "outputs": [
    {
     "name": "stdout",
     "output_type": "stream",
     "text": [
      "Tire22 radius 22.0\n",
      "Tire22 area 1520.53084433746\n",
      "Tire22 perimeter 172.7875959474386\n",
      "circle22 perimeter 138.23007675795088\n"
     ]
    }
   ],
   "source": [
    "# Tire\n",
    "t = Tire(22)\n",
    "c2 = Circle(22)\n",
    "print(\"Tire22 radius\", t.radius)\n",
    "print(\"Tire22 area\", t.area())\n",
    "print(\"Tire22 perimeter\", t.perimeter())\n",
    "print(\"circle22 perimeter\", c2.perimeter())"
   ]
  },
  {
   "cell_type": "code",
   "execution_count": 57,
   "metadata": {},
   "outputs": [
    {
     "data": {
      "text/plain": [
       "8.7488663525924"
      ]
     },
     "execution_count": 57,
     "metadata": {},
     "output_type": "execute_result"
    }
   ],
   "source": [
    "# call the constructor\n",
    "c = Circle.from_bbd(25)\n",
    "c.angle_to_grade(5)"
   ]
  },
  {
   "cell_type": "code",
   "execution_count": 58,
   "metadata": {},
   "outputs": [
    {
     "data": {
      "text/plain": [
       "8.838834764831843"
      ]
     },
     "execution_count": 58,
     "metadata": {},
     "output_type": "execute_result"
    }
   ],
   "source": [
    "c = Tire.from_bbd(25)\n",
    "c.radius"
   ]
  },
  {
   "cell_type": "code",
   "execution_count": 59,
   "metadata": {},
   "outputs": [
    {
     "data": {
      "text/plain": [
       "433.1475874284157"
      ]
     },
     "execution_count": 59,
     "metadata": {},
     "output_type": "execute_result"
    }
   ],
   "source": [
    "c= Circle(6)\n",
    "c.angle_to_grade(77)"
   ]
  },
  {
   "cell_type": "code",
   "execution_count": 60,
   "metadata": {},
   "outputs": [
    {
     "name": "stdout",
     "output_type": "stream",
     "text": [
      "Help on class Tire in module __main__:\n",
      "\n",
      "class Tire(Circle)\n",
      " |  Tires are circles with a corrected perimeter\n",
      " |  \n",
      " |  Method resolution order:\n",
      " |      Tire\n",
      " |      Circle\n",
      " |      builtins.object\n",
      " |  \n",
      " |  Methods defined here:\n",
      " |  \n",
      " |  perimeter(self)\n",
      " |      Circumference corrected for rubber\n",
      " |  \n",
      " |  ----------------------------------------------------------------------\n",
      " |  Data descriptors defined here:\n",
      " |  \n",
      " |  __dict__\n",
      " |      dictionary for instance variables (if defined)\n",
      " |  \n",
      " |  __weakref__\n",
      " |      list of weak references to the object (if defined)\n",
      " |  \n",
      " |  ----------------------------------------------------------------------\n",
      " |  Methods inherited from Circle:\n",
      " |  \n",
      " |  __init__(self, radius)\n",
      " |      Initialize self.  See help(type(self)) for accurate signature.\n",
      " |  \n",
      " |  area(self)\n",
      " |      Perform quadrature on a shape of uniform radius\n",
      " |  \n",
      " |  ----------------------------------------------------------------------\n",
      " |  Class methods inherited from Circle:\n",
      " |  \n",
      " |  from_bbd(bbd) from builtins.type\n",
      " |      Construct a circle from a bounding box diagonal\n",
      " |  \n",
      " |  ----------------------------------------------------------------------\n",
      " |  Static methods inherited from Circle:\n",
      " |  \n",
      " |  angle_to_grade(angle)\n",
      " |      Convert angle in degree to a percentage grade\n",
      " |  \n",
      " |  ----------------------------------------------------------------------\n",
      " |  Data descriptors inherited from Circle:\n",
      " |  \n",
      " |  diameter\n",
      " |  \n",
      " |  radius\n",
      " |      Radius of circle\n",
      " |  \n",
      " |  ----------------------------------------------------------------------\n",
      " |  Data and other attributes inherited from Circle:\n",
      " |  \n",
      " |  version = '0.1'\n",
      "\n"
     ]
    }
   ],
   "source": [
    "help(Tire)"
   ]
  },
  {
   "cell_type": "code",
   "execution_count": null,
   "metadata": {},
   "outputs": [],
   "source": []
  },
  {
   "cell_type": "code",
   "execution_count": null,
   "metadata": {},
   "outputs": [],
   "source": []
  },
  {
   "cell_type": "code",
   "execution_count": null,
   "metadata": {},
   "outputs": [],
   "source": []
  }
 ],
 "metadata": {
  "kernelspec": {
   "display_name": "Python 3",
   "language": "python",
   "name": "python3"
  },
  "language_info": {
   "codemirror_mode": {
    "name": "ipython",
    "version": 3
   },
   "file_extension": ".py",
   "mimetype": "text/x-python",
   "name": "python",
   "nbconvert_exporter": "python",
   "pygments_lexer": "ipython3",
   "version": "3.6.2"
  }
 },
 "nbformat": 4,
 "nbformat_minor": 2
}
