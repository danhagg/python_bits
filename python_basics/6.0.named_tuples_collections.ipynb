{
 "cells": [
  {
   "cell_type": "markdown",
   "metadata": {},
   "source": [
    "# namedtuple(typename, field_names, *, verbose=False, rename=False, module=None)\n",
    "```python\n",
    "p._make(iterable) # Make a new Point object from a sequence or iterable\n",
    "p._asdict() # Return a new OrderedDict which maps field names to their values.\n",
    "p._replace(**kwds) # Return a new Point object replacing specified fields with new values\n",
    "p._fields # Tuple of strings listing the field names. \n",
    "```"
   ]
  },
  {
   "cell_type": "code",
   "execution_count": 2,
   "metadata": {},
   "outputs": [
    {
     "name": "stdout",
     "output_type": "stream",
     "text": [
      "color.red 50\n",
      "t = [11, 22], Point._make(t) =  Point(x=11, y=22)\n",
      "p._asdict() =  OrderedDict([('x', 11), ('y', 22)])\n",
      "p._replace(x=33) =  Point(x=33, y=22)\n",
      "Point._fields =  ('x', 'y')\n"
     ]
    }
   ],
   "source": [
    "# namedtuple(typename, field_names, *, verbose=False, rename=False, module=None)\n",
    "from collections import namedtuple\n",
    "Color = namedtuple('Color', ['red', 'green', 'blue'])\n",
    "color = Color(50, 160, 220)\n",
    "print(\"color.red\", color.red)\n",
    "\n",
    "# namedtuple(typename, field_names, *, verbose=False, rename=False, module=None)\n",
    "Point = namedtuple('Point', ['x', 'y'])\n",
    "\n",
    "# somenamedtuple._make(iterable)\n",
    "# A class method that makes a new instance from an existing sequence or iterable.\n",
    "t = [11, 22]\n",
    "print(\"t = [11, 22], Point._make(t) = \", Point._make(t))\n",
    "\n",
    "# somenamedtuple._asdict()\n",
    "# Return a new orderedDict which maps field names to their corresponding values\n",
    "p = Point(x=11, y=22)\n",
    "print(\"p._asdict() = \", p._asdict())\n",
    "\n",
    "# somenamedtuple._replace(**kwargs)\n",
    "# Return a new instance of a named tuple replacing specified fields with new values\n",
    "p = Point(x=11, y=22)\n",
    "print(\"p._replace(x=33) = \", p._replace(x=33))\n",
    "\n",
    "# somenamedtuple._source\n",
    "# A string with the pure python source code used to create the named tuple class. \n",
    "# The source makes the named tuple self-documenting. \n",
    "# It can be printed, executed using exec() or saved to a file and imported\n",
    "\n",
    "# somenamedtuple._fields\n",
    "print(\"Point._fields = \", Point._fields)\n",
    "# Tuple of strings listing the field names. \n",
    "# Useful for introspection and for creating new named tuple types from existing named tuples."
   ]
  },
  {
   "cell_type": "code",
   "execution_count": null,
   "metadata": {},
   "outputs": [],
   "source": []
  }
 ],
 "metadata": {
  "kernelspec": {
   "display_name": "Python 3",
   "language": "python",
   "name": "python3"
  },
  "language_info": {
   "codemirror_mode": {
    "name": "ipython",
    "version": 3
   },
   "file_extension": ".py",
   "mimetype": "text/x-python",
   "name": "python",
   "nbconvert_exporter": "python",
   "pygments_lexer": "ipython3",
   "version": "3.6.2"
  }
 },
 "nbformat": 4,
 "nbformat_minor": 2
}
