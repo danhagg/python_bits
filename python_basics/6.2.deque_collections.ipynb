{
 "cells": [
  {
   "cell_type": "markdown",
   "metadata": {},
   "source": [
    "# collections.deque([iterable[, maxlen]])"
   ]
  },
  {
   "cell_type": "markdown",
   "metadata": {},
   "source": [
    "```python\n",
    "dq.append(object) # append object to end of deque\n",
    "dq.appendleft(object) # append object to beginning of deque\n",
    "dq.extend(iterable) # extend deque by appending elements from the iterable\n",
    "dq.extend(iterable) # extend deque by appending elements from the iterable\n",
    "dq.insert(index, object) # insert object before index\n",
    "dq.index(value, [start, [stop]]) # return first index of value.\n",
    "dq.count(value) # return number of occurrences of value\n",
    "dq.remove(value) # remove first occurrence of value.\n",
    "dq.pop([index]) # remove and return item at index (default last)\n",
    "dq.popleft([index]) # remove and return item at index (default first)\n",
    "dq.reverse() # reverse *IN PLACE*\n",
    "dq.rotate(n) # Rotate the deque n steps to the right (default n=1).  If n is negative, rotates left.\n",
    "dq.sort(key=None, reverse=False)\n",
    "```"
   ]
  },
  {
   "cell_type": "code",
   "execution_count": 11,
   "metadata": {},
   "outputs": [
    {
     "name": "stdout",
     "output_type": "stream",
     "text": [
      "deque(['a', 'b', 'c'])\n",
      "dq.count('b') =  1\n",
      "\n",
      "append adds the deque with the list as is\n",
      "dq.append(['f', 'g']) =  deque(['a', 'b', 'c', ['f', 'g']])\n",
      "dq.append(['p', 'q']) =  deque([['p', 'q'], 'a', 'b', 'c', ['f', 'g']])\n",
      "\n",
      "extend opens the list and adds it to the deque\n",
      "dq.extend([1,2]) =  deque([['p', 'q'], 'a', 'b', 'c', ['f', 'g'], 1, 2])\n",
      "dq.extendleft([7,8]) =  deque([8, 7, ['p', 'q'], 'a', 'b', 'c', ['f', 'g'], 1, 2])\n",
      "dq.index(['p', 'q']) =  2\n",
      "\n",
      "dq.insert(4, 'ZZ') =  deque([8, 7, ['p', 'q'], 'a', 'ZZ', 'b', 'c', ['f', 'g'], 1, 2])\n",
      "dq.pop() =  deque([8, 7, ['p', 'q'], 'a', 'ZZ', 'b', 'c', ['f', 'g'], 1])\n",
      "dq.popleft() =  deque([7, ['p', 'q'], 'a', 'ZZ', 'b', 'c', ['f', 'g'], 1])\n",
      "dq.remove(['p', 'q'] =  deque([7, 'a', 'ZZ', 'b', 'c', ['f', 'g'], 1])\n",
      "dq.reverse() =  deque([1, ['f', 'g'], 'c', 'b', 'ZZ', 'a', 7])\n",
      "dq.rotate(2) =  deque(['a', 7, 1, ['f', 'g'], 'c', 'b', 'ZZ'])\n"
     ]
    }
   ],
   "source": [
    "# collections.deque([iterable[, maxlen]])\n",
    "from collections import deque\n",
    "ls = list('abc')\n",
    "dq = deque(ls)\n",
    "print(dq)\n",
    "\n",
    "print(\"dq.count('b') = \", dq.count('b'))\n",
    "\n",
    "print(\"\\nappend adds the deque with the list as is\")\n",
    "dq.append(['f', 'g'])\n",
    "print(\"dq.append(['f', 'g']) = \", dq)\n",
    "\n",
    "dq.appendleft(['p', 'q'])\n",
    "print(\"dq.append(['p', 'q']) = \", dq)\n",
    "\n",
    "print(\"\\nextend opens the list and adds it to the deque\")\n",
    "dq.extend([1,2])\n",
    "print(\"dq.extend([1,2]) = \", dq)\n",
    "\n",
    "dq.extendleft([7,8])\n",
    "print(\"dq.extendleft([7,8]) = \", dq)\n",
    "\n",
    "print(\"dq.index(['p', 'q']) = \", dq.index(['p', 'q']))\n",
    "\n",
    "dq.insert(4, 'ZZ')\n",
    "print(\"\\ndq.insert(4, 'ZZ') = \", dq)\n",
    "\n",
    "dq.pop()\n",
    "print(\"dq.pop() = \", dq)\n",
    "\n",
    "dq.popleft()\n",
    "print(\"dq.popleft() = \", dq)\n",
    "\n",
    "dq.remove(['p', 'q'])\n",
    "print(\"dq.remove(['p', 'q'] = \", dq)\n",
    "\n",
    "dq.reverse()\n",
    "print(\"dq.reverse() = \", dq)\n",
    "\n",
    "dq.rotate(2)\n",
    "print(\"dq.rotate(2) = \", dq)"
   ]
  },
  {
   "cell_type": "code",
   "execution_count": null,
   "metadata": {},
   "outputs": [],
   "source": []
  }
 ],
 "metadata": {
  "kernelspec": {
   "display_name": "Python 3",
   "language": "python",
   "name": "python3"
  },
  "language_info": {
   "codemirror_mode": {
    "name": "ipython",
    "version": 3
   },
   "file_extension": ".py",
   "mimetype": "text/x-python",
   "name": "python",
   "nbconvert_exporter": "python",
   "pygments_lexer": "ipython3",
   "version": "3.6.2"
  }
 },
 "nbformat": 4,
 "nbformat_minor": 2
}
