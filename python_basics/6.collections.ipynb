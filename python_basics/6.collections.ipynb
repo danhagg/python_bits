{
 "cells": [
  {
   "cell_type": "markdown",
   "metadata": {},
   "source": [
    "# collection.namedtuple(typename, field_names, *, verbose=False, rename=False, module=None)"
   ]
  },
  {
   "cell_type": "code",
   "execution_count": null,
   "metadata": {},
   "outputs": [],
   "source": [
    "# namedtuple(typename, field_names, *, verbose=False, rename=False, module=None)\n",
    "from collections import namedtuple\n",
    "Color = namedtuple('Color', ['red', 'green', 'blue'])\n",
    "color = Color(50, 160, 220)\n",
    "print(\"color.red\", color.red)\n",
    "\n",
    "# namedtuple(typename, field_names, *, verbose=False, rename=False, module=None)\n",
    "Point = namedtuple('Point', ['x', 'y'])\n",
    "\n",
    "# somenamedtuple._make(iterable)\n",
    "# A class method that makes a new instance from an existing sequence or iterable.\n",
    "t = [11, 22]\n",
    "print(\"t = [11, 22], Point._make(t) = \", Point._make(t))\n",
    "\n",
    "# somenamedtuple._asdict()\n",
    "# Return a new orderedDict which maps field names to their corresponding values\n",
    "p = Point(x=11, y=22)\n",
    "print(\"p._asdict() = \", p._asdict())\n",
    "\n",
    "# somenamedtuple._replace(**kwargs)\n",
    "# Return a new instance of a named tuple replacing specified fields with new values\n",
    "p = Point(x=11, y=22)\n",
    "print(\"p._replace(x=33) = \", p._replace(x=33))\n",
    "\n",
    "# somenamedtuple._source\n",
    "# A string with the pure python source code used to create the named tuple class. \n",
    "# The source makes the named tuple self-documenting. \n",
    "# It can be printed, executed using exec() or saved to a file and imported\n",
    "\n",
    "# somenamedtuple._fields\n",
    "print(\"Point._fields = \", Point._fields)\n",
    "# Tuple of strings listing the field names. \n",
    "# Useful for introspection and for creating new named tuple types from existing named tuples."
   ]
  },
  {
   "cell_type": "markdown",
   "metadata": {},
   "source": [
    "# collections.deque([iterable[, maxlen]])"
   ]
  },
  {
   "cell_type": "code",
   "execution_count": 1,
   "metadata": {},
   "outputs": [
    {
     "name": "stdout",
     "output_type": "stream",
     "text": [
      "deque(['a', 'b', 'c'])\n",
      "dq.count('b') =  1\n",
      "\n",
      "append adds the deque with the list as is\n",
      "dq.append(['f', 'g']) =  deque(['a', 'b', 'c', ['f', 'g']])\n",
      "dq.append(['p', 'q']) =  deque([['p', 'q'], 'a', 'b', 'c', ['f', 'g']])\n",
      "\n",
      "extend opens the list and adds it to the deque\n",
      "dq.extend([1,2]) =  deque([['p', 'q'], 'a', 'b', 'c', ['f', 'g'], 1, 2])\n",
      "dq.extendleft([7,8]) =  deque([8, 7, ['p', 'q'], 'a', 'b', 'c', ['f', 'g'], 1, 2])\n",
      "dq.index(['p', 'q']) =  2\n",
      "\n",
      "dq.insert(4, 'ZZ') =  deque([8, 7, ['p', 'q'], 'a', 'ZZ', 'b', 'c', ['f', 'g'], 1, 2])\n",
      "dq.pop() =  deque([8, 7, ['p', 'q'], 'a', 'ZZ', 'b', 'c', ['f', 'g'], 1])\n",
      "dq.popleft() =  deque([7, ['p', 'q'], 'a', 'ZZ', 'b', 'c', ['f', 'g'], 1])\n",
      "dq.remove(['p', 'q'] =  deque([7, 'a', 'ZZ', 'b', 'c', ['f', 'g'], 1])\n",
      "dq.reverse() =  deque([1, ['f', 'g'], 'c', 'b', 'ZZ', 'a', 7])\n",
      "dq.rotate(2) =  deque(['a', 7, 1, ['f', 'g'], 'c', 'b', 'ZZ'])\n"
     ]
    }
   ],
   "source": [
    "# collections.deque([iterable[, maxlen]])\n",
    "from collections import deque\n",
    "ls = list('abc')\n",
    "dq = deque(ls)\n",
    "print(dq)\n",
    "\n",
    "print(\"dq.count('b') = \", dq.count('b'))\n",
    "\n",
    "print(\"\\nappend adds the deque with the list as is\")\n",
    "dq.append(['f', 'g'])\n",
    "print(\"dq.append(['f', 'g']) = \", dq)\n",
    "\n",
    "dq.appendleft(['p', 'q'])\n",
    "print(\"dq.append(['p', 'q']) = \", dq)\n",
    "\n",
    "print(\"\\nextend opens the list and adds it to the deque\")\n",
    "dq.extend([1,2])\n",
    "print(\"dq.extend([1,2]) = \", dq)\n",
    "\n",
    "dq.extendleft([7,8])\n",
    "print(\"dq.extendleft([7,8]) = \", dq)\n",
    "\n",
    "print(\"dq.index(['p', 'q']) = \", dq.index(['p', 'q']))\n",
    "\n",
    "dq.insert(4, 'ZZ')\n",
    "print(\"\\ndq.insert(4, 'ZZ') = \", dq)\n",
    "\n",
    "dq.pop()\n",
    "print(\"dq.pop() = \", dq)\n",
    "\n",
    "dq.popleft()\n",
    "print(\"dq.popleft() = \", dq)\n",
    "\n",
    "dq.remove(['p', 'q'])\n",
    "print(\"dq.remove(['p', 'q'] = \", dq)\n",
    "\n",
    "dq.reverse()\n",
    "print(\"dq.reverse() = \", dq)\n",
    "\n",
    "dq.rotate(2)\n",
    "print(\"dq.rotate(2) = \", dq)"
   ]
  },
  {
   "cell_type": "markdown",
   "metadata": {},
   "source": [
    "# collections.Counter([iterable-or-mapping])"
   ]
  },
  {
   "cell_type": "code",
   "execution_count": 2,
   "metadata": {},
   "outputs": [
    {
     "name": "stdout",
     "output_type": "stream",
     "text": [
      "Counter({'d': 4, 'c': 3, 'a': 1, 'b': 1})\n",
      "list(c.elements()) =  ['d', 'd', 'd', 'd', 'a', 'b', 'c', 'c', 'c']\n",
      "c.most_common(2) =  [('d', 4), ('c', 3)]\n",
      "c.most_common()[:-3-1:-1] =  [('b', 1), ('a', 1), ('c', 3)]\n",
      "d = c + c =  Counter({'d': 8, 'c': 6, 'a': 2, 'b': 2})\n",
      "e = d - c =  Counter({'d': 4, 'c': 3, 'a': 1, 'b': 1})\n",
      "sum(c.values()) =  9\n",
      "listc =  ['d', 'a', 'b', 'c']\n",
      "setc =  {'c', 'd', 'a', 'b'}\n",
      "dictc {'d': 4, 'a': 1, 'b': 1, 'c': 3}\n",
      "itemc dict_items([('d', 4), ('a', 1), ('b', 1), ('c', 3)])\n",
      "Counter(dict(itemc) =  Counter({'d': 4, 'c': 3, 'a': 1, 'b': 1})\n"
     ]
    }
   ],
   "source": [
    "from collections import Counter\n",
    "c = Counter(['d','d','a', 'b','c', 'd', 'c', 'd', 'c'])\n",
    "print(c)\n",
    "\n",
    "print(\"list(c.elements()) = \", list(c.elements()))\n",
    "print(\"c.most_common(2) = \", c.most_common(2))\n",
    "print(\"c.most_common()[:-3-1:-1] = \", c.most_common()[:-3-1:-1])\n",
    "d = c + c\n",
    "print(\"d = c + c = \", d)\n",
    "e = d - c\n",
    "print(\"e = d - c = \", e)\n",
    "print(\"sum(c.values()) = \", sum(c.values()))\n",
    "listc = list(c)\n",
    "print(\"listc = \", listc)\n",
    "setc = set(c)\n",
    "print(\"setc = \", setc)\n",
    "dictc = dict(c)\n",
    "print(\"dictc\", dictc)\n",
    "itemc = c.items()\n",
    "print(\"itemc\", itemc)\n",
    "print(\"Counter(dict(itemc) = \", Counter(dict(itemc)))"
   ]
  },
  {
   "cell_type": "markdown",
   "metadata": {},
   "source": [
    "# collections.defaultdict([default_factory[, ...]])"
   ]
  },
  {
   "cell_type": "markdown",
   "metadata": {},
   "source": [
    "##### Extend a list of values for a key in a dictionary"
   ]
  },
  {
   "cell_type": "code",
   "execution_count": 4,
   "metadata": {},
   "outputs": [
    {
     "data": {
      "text/plain": [
       "[('yellow', [1, 1]), ('blue', [2, 4]), ('red', [1])]"
      ]
     },
     "execution_count": 4,
     "metadata": {},
     "output_type": "execute_result"
    }
   ],
   "source": [
    "from collections import defaultdict\n",
    "\n",
    "s = [('yellow', 1), ('blue', 2), ('yellow', 1), ('blue', 4), ('red', 1)]\n",
    "\n",
    "d = defaultdict(list)\n",
    "\n",
    "for k, v in s:\n",
    "    d[k].append(v)\n",
    "    \n",
    "list(d.items())"
   ]
  },
  {
   "cell_type": "markdown",
   "metadata": {},
   "source": [
    "##### Counting with dictionaries"
   ]
  },
  {
   "cell_type": "code",
   "execution_count": 5,
   "metadata": {},
   "outputs": [
    {
     "data": {
      "text/plain": [
       "[('m', 1), ('i', 4), ('s', 4), ('p', 2)]"
      ]
     },
     "execution_count": 5,
     "metadata": {},
     "output_type": "execute_result"
    }
   ],
   "source": [
    "s = 'mississippi'\n",
    "d = defaultdict(int)\n",
    "for k in s:\n",
    "    d[k] += 1\n",
    "    \n",
    "list(d.items())"
   ]
  },
  {
   "cell_type": "markdown",
   "metadata": {},
   "source": [
    "##### Counting uniques with dictionaries"
   ]
  },
  {
   "cell_type": "code",
   "execution_count": 8,
   "metadata": {},
   "outputs": [
    {
     "data": {
      "text/plain": [
       "[('red', {1, 3}), ('blue', {2, 4})]"
      ]
     },
     "execution_count": 8,
     "metadata": {},
     "output_type": "execute_result"
    }
   ],
   "source": [
    "s = [('red', 1), \n",
    "     ('blue', 2), \n",
    "     ('red', 3), \n",
    "     ('blue', 4), \n",
    "     ('red', 1), \n",
    "     ('blue', 4)]\n",
    "d = defaultdict(set)\n",
    "for k, v in s:\n",
    "    d[k].add(v)\n",
    "\n",
    "list(d.items())"
   ]
  },
  {
   "cell_type": "code",
   "execution_count": null,
   "metadata": {},
   "outputs": [],
   "source": []
  }
 ],
 "metadata": {
  "kernelspec": {
   "display_name": "Python 3",
   "language": "python",
   "name": "python3"
  },
  "language_info": {
   "codemirror_mode": {
    "name": "ipython",
    "version": 3
   },
   "file_extension": ".py",
   "mimetype": "text/x-python",
   "name": "python",
   "nbconvert_exporter": "python",
   "pygments_lexer": "ipython3",
   "version": "3.6.2"
  }
 },
 "nbformat": 4,
 "nbformat_minor": 2
}
