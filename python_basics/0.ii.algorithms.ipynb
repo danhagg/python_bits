{
 "cells": [
  {
   "cell_type": "markdown",
   "metadata": {},
   "source": [
    "# Fibonacci 1"
   ]
  },
  {
   "cell_type": "code",
   "execution_count": 1,
   "metadata": {},
   "outputs": [
    {
     "name": "stdout",
     "output_type": "stream",
     "text": [
      "1 1 2 3 5 8 13 21 34 55 89 144 233 377 610 987 None\n",
      "[1, 1, 2, 3, 5, 8, 13, 21, 34, 55, 89]\n"
     ]
    }
   ],
   "source": [
    "# Fibonacci numbers module\n",
    "def fib(n):    # write Fibonacci series up to n\n",
    "    a, b = 0, 1\n",
    "    while b < n:\n",
    "        print(b, end=' ')\n",
    "        a, b = b, a+b\n",
    "\n",
    "\n",
    "def fib2(n):   # return Fibonacci series up to n\n",
    "    result = []\n",
    "    a, b = 0, 1\n",
    "    while b < n:\n",
    "        result.append(b)\n",
    "        a, b = b, a+b\n",
    "    return result\n",
    "\n",
    "print(fib(1000))\n",
    "print(fib2(100))"
   ]
  },
  {
   "cell_type": "markdown",
   "metadata": {},
   "source": [
    "# Fibonacci 2"
   ]
  },
  {
   "cell_type": "code",
   "execution_count": 2,
   "metadata": {},
   "outputs": [
    {
     "name": "stdout",
     "output_type": "stream",
     "text": [
      "Enter number of terms:10\n",
      "Fibonacci sequence:\n",
      "0\n",
      "1\n",
      "1\n",
      "2\n",
      "3\n",
      "5\n",
      "8\n",
      "13\n",
      "21\n",
      "34\n"
     ]
    }
   ],
   "source": [
    "def fibonacci(n):\n",
    "    if(n <= 1):\n",
    "        return n\n",
    "    else:\n",
    "        return(fibonacci(n-1) + fibonacci(n-2))\n",
    "n = int(input(\"Enter number of terms:\"))\n",
    "print(\"Fibonacci sequence:\")\n",
    "for i in range(n):\n",
    "    print (fibonacci(i))"
   ]
  },
  {
   "cell_type": "markdown",
   "metadata": {},
   "source": [
    "# Find primes"
   ]
  },
  {
   "cell_type": "code",
   "execution_count": 1,
   "metadata": {},
   "outputs": [
    {
     "name": "stdout",
     "output_type": "stream",
     "text": [
      "5 from list is prime\n",
      "7 from list is prime\n",
      "11 from list is prime\n",
      "13 from list is prime\n",
      "17 from list is prime\n",
      "19 from list is prime\n",
      "23 from list is prime\n",
      "29 from list is prime\n",
      "31 from list is prime\n",
      "37 from list is prime\n",
      "41 from list is prime\n",
      "43 from list is prime\n",
      "47 from list is prime\n"
     ]
    }
   ],
   "source": [
    "def findPrimes(numbers):\n",
    "    i = 2\n",
    "    while (i < len(numbers)):\n",
    "        j = 2\n",
    "        while (j <= (i / j)):\n",
    "            if not (i % j):\n",
    "                break\n",
    "            j = j + 1\n",
    "            if (j > i / j):\n",
    "                print(i, \"from list is prime\")\n",
    "        i = i + 1\n",
    "\n",
    "\n",
    "l = list(range(1, 50))\n",
    "findPrimes(l)"
   ]
  },
  {
   "cell_type": "markdown",
   "metadata": {},
   "source": [
    "# Enumerate"
   ]
  },
  {
   "cell_type": "code",
   "execution_count": 3,
   "metadata": {},
   "outputs": [
    {
     "name": "stdout",
     "output_type": "stream",
     "text": [
      "0 --> red\n",
      "1 --> yellow\n",
      "2 --> blue\n",
      "yellow\n",
      "red\n",
      "blue\n"
     ]
    }
   ],
   "source": [
    "# enumerate is fast simple\n",
    "# saves u from tracking individual indices and incrementing it\n",
    "# whenever your manipulating indices directly your probably doing it wrong\n",
    "colors = ['red', 'yellow', 'blue']\n",
    "for i, color in enumerate(colors):\n",
    "    print(i, '-->', colors[i])"
   ]
  },
  {
   "cell_type": "markdown",
   "metadata": {},
   "source": [
    "# Sorted"
   ]
  },
  {
   "cell_type": "code",
   "execution_count": 6,
   "metadata": {},
   "outputs": [
    {
     "name": "stdout",
     "output_type": "stream",
     "text": [
      "yellow\n",
      "red\n",
      "blue\n",
      "['red', 'blue', 'yellow']\n"
     ]
    }
   ],
   "source": [
    "for color in sorted(colors, reverse=True):\n",
    "    print(color)\n",
    "    \n",
    "print(sorted(colors, key=len))"
   ]
  },
  {
   "cell_type": "code",
   "execution_count": 7,
   "metadata": {},
   "outputs": [
    {
     "name": "stdout",
     "output_type": "stream",
     "text": [
      "Sorted list: [(4, 1), (2, 2), (1, 3), (3, 4)]\n"
     ]
    }
   ],
   "source": [
    "# sorted with a user defined function as key\n",
    "def takeSecond(elem):\n",
    "    return elem[1]\n",
    "\n",
    "# random list\n",
    "random = [(2, 2), (3, 4), (4, 1), (1, 3)]\n",
    "\n",
    "# sort list with key\n",
    "sortedList = sorted(random, key=takeSecond)\n",
    "\n",
    "# print list\n",
    "print('Sorted list:', sortedList)"
   ]
  },
  {
   "cell_type": "markdown",
   "metadata": {},
   "source": [
    "# Zip"
   ]
  },
  {
   "cell_type": "code",
   "execution_count": 8,
   "metadata": {},
   "outputs": [
    {
     "name": "stdout",
     "output_type": "stream",
     "text": [
      "Dan --> red\n",
      "Dave --> yellow\n",
      "Derek --> blue\n"
     ]
    }
   ],
   "source": [
    "# Pythonic\n",
    "names = ['Dan', 'Dave', 'Derek']\n",
    "colors = ['red', 'yellow', 'blue']\n",
    "\n",
    "for name, color in zip(names, colors):\n",
    "    print(name, '-->', color)"
   ]
  },
  {
   "cell_type": "code",
   "execution_count": 9,
   "metadata": {},
   "outputs": [
    {
     "name": "stdout",
     "output_type": "stream",
     "text": [
      "a\n",
      "bbb\n",
      "ccccccccc\n"
     ]
    }
   ],
   "source": [
    "# Pythonic\n",
    "lets = ['a', 'b', 'c']\n",
    "nums = [1, 3, 9]\n",
    "\n",
    "for let, num in zip(lets, nums):\n",
    "    print(let*num)"
   ]
  },
  {
   "cell_type": "code",
   "execution_count": 10,
   "metadata": {},
   "outputs": [
    {
     "data": {
      "text/plain": [
       "True"
      ]
     },
     "execution_count": 10,
     "metadata": {},
     "output_type": "execute_result"
    }
   ],
   "source": [
    "x = [1, 2, 3]\n",
    "y = [4, 5, 6]\n",
    "zipped = zip(x, y)\n",
    "list(zipped)\n",
    "[(1, 4), (2, 5), (3, 6)]\n",
    "x2, y2 = zip(*zip(x, y))\n",
    "x == list(x2) and y == list(y2)"
   ]
  },
  {
   "cell_type": "markdown",
   "metadata": {},
   "source": [
    "# Write a Python function to multiply all the numbers in a list."
   ]
  },
  {
   "cell_type": "code",
   "execution_count": 11,
   "metadata": {},
   "outputs": [
    {
     "data": {
      "text/plain": [
       "120"
      ]
     },
     "execution_count": 11,
     "metadata": {},
     "output_type": "execute_result"
    }
   ],
   "source": [
    "numbers = [1,2,3,4,5]\n",
    "def factorial(numbers):\n",
    "    total = 1\n",
    "    for number in numbers:\n",
    "        total *= number\n",
    "    return total\n",
    "  \n",
    "factorial(numbers)"
   ]
  },
  {
   "cell_type": "code",
   "execution_count": null,
   "metadata": {},
   "outputs": [],
   "source": []
  },
  {
   "cell_type": "code",
   "execution_count": 12,
   "metadata": {},
   "outputs": [
    {
     "data": {
      "text/plain": [
       "[2, 3, 4]"
      ]
     },
     "execution_count": 12,
     "metadata": {},
     "output_type": "execute_result"
    }
   ],
   "source": [
    "# implement map function\n",
    "add_one = lambda x: x + 1 \n",
    "\n",
    "def mapp(list_in, add_one):\n",
    "    list_out =[]\n",
    "    list_out = [add_one(x) for x in list_in]  # [expr for var in iterable]\n",
    "    return list_out\n",
    "    print(list_out)\n",
    "\n",
    "mapp([1,2,3], add_one)"
   ]
  },
  {
   "cell_type": "markdown",
   "metadata": {},
   "source": [
    "# Write a Python function that accepts a string and calculate the number of upper case letters and lower case letters"
   ]
  },
  {
   "cell_type": "code",
   "execution_count": 13,
   "metadata": {},
   "outputs": [
    {
     "name": "stdout",
     "output_type": "stream",
     "text": [
      "There are 4 uppercase and 12 lowercase letters in the string\n"
     ]
    }
   ],
   "source": [
    "# Write a Python function that accepts a string and calculate the number of upper case letters and lower case letters\n",
    "def upper_and_lower(a_string):\n",
    "    letters = {\"UPPER CASE\": 0, \"LOWER CASE\": 0}\n",
    "    for letter in a_string:\n",
    "        if letter.isupper():\n",
    "            letters['UPPER CASE'] += 1\n",
    "        elif letter.islower():\n",
    "            letters['LOWER CASE'] += 1\n",
    "        else:\n",
    "            pass\n",
    "    print(\"There are {UPPER CASE} uppercase and {LOWER CASE} lowercase letters in the string\".format(**letters))\n",
    "a_string = \"The Quick Brown Fox\"\n",
    "upper_and_lower(a_string)"
   ]
  },
  {
   "cell_type": "markdown",
   "metadata": {},
   "source": [
    "# for else statement\n",
    "two outcomes, \n",
    "1. search thru a certain number to tgt and return i, \n",
    "2. search all and exit"
   ]
  },
  {
   "cell_type": "code",
   "execution_count": 14,
   "metadata": {},
   "outputs": [
    {
     "data": {
      "text/plain": [
       "2"
      ]
     },
     "execution_count": 14,
     "metadata": {},
     "output_type": "execute_result"
    }
   ],
   "source": [
    "def find(seq, target):\n",
    "    for i, value in enumerate(seq):\n",
    "        if value == tgt:\n",
    "            break\n",
    "    else: # inside every for loop is an if, thus u can else out of it\n",
    "        return -1\n",
    "    return i\n",
    "\n",
    "seq = ['a', 'b', 'c', 'd']\n",
    "tgt = 'c'\n",
    "find(seq, tgt)"
   ]
  },
  {
   "cell_type": "code",
   "execution_count": 15,
   "metadata": {},
   "outputs": [
    {
     "data": {
      "text/plain": [
       "[0, 2, 4, 6, 8]"
      ]
     },
     "execution_count": 15,
     "metadata": {},
     "output_type": "execute_result"
    }
   ],
   "source": [
    "odd = lambda x : bool(x % 2)\n",
    "numbers = [n for n in range(10)]\n",
    "numbers[:] = [n for n in numbers if not odd(n)]  # ahh, the beauty of it all\n",
    "numbers"
   ]
  },
  {
   "cell_type": "markdown",
   "metadata": {},
   "source": [
    "# Flatten list"
   ]
  },
  {
   "cell_type": "code",
   "execution_count": 16,
   "metadata": {},
   "outputs": [
    {
     "data": {
      "text/plain": [
       "['a', 7, 'a', 7, 'a', 7, 'a', 7, 'a', 7]"
      ]
     },
     "execution_count": 16,
     "metadata": {},
     "output_type": "execute_result"
    }
   ],
   "source": [
    "# Flatten\n",
    "biglist = [['a', 7], ['a', 7], ['a', 7], ['a', 7], ['a', 7]]\n",
    "flat_list = [item for sublist in biglist for item in sublist]\n",
    "flat_list"
   ]
  },
  {
   "cell_type": "markdown",
   "metadata": {},
   "source": [
    "# Compare neighboring list elements"
   ]
  },
  {
   "cell_type": "code",
   "execution_count": 2,
   "metadata": {},
   "outputs": [
    {
     "name": "stdout",
     "output_type": "stream",
     "text": [
      "2\n"
     ]
    }
   ],
   "source": [
    "numList = [20,20,10,-10,-30,30,5,5]\n",
    "cnt = 0\n",
    "for i in range(1, len(numList)): \n",
    "    if numList[i-1] == numList[i]: cnt+=1\n",
    "\n",
    "print(cnt)"
   ]
  },
  {
   "cell_type": "code",
   "execution_count": 3,
   "metadata": {},
   "outputs": [
    {
     "name": "stdout",
     "output_type": "stream",
     "text": [
      "2\n"
     ]
    }
   ],
   "source": [
    "from itertools import groupby\n",
    "numList = [20,20,10,-10,-30,30,5,5]\n",
    "cnt = groupby(numList)\n",
    "print (len([a for a in cnt if len(list(a[1]))>1]))"
   ]
  },
  {
   "cell_type": "markdown",
   "metadata": {},
   "source": [
    "# Combinations"
   ]
  },
  {
   "cell_type": "code",
   "execution_count": 2,
   "metadata": {},
   "outputs": [
    {
     "name": "stdout",
     "output_type": "stream",
     "text": [
      "[20, 20, 20, 10, 10, 10, 10, 10, 5, 5, 1, 1, 1, 1, 1]\n",
      "5\n"
     ]
    }
   ],
   "source": [
    "import itertools as it\n",
    "# A choice of k things from a set of n things is called a combination\n",
    "bills = [20]*3 + [10]*5 + [5]*2 + [1]*5\n",
    "print(bills)\n",
    "\n",
    "makes_100 = []\n",
    "for n in range(1, len(bills) + 1):\n",
    "    for combination in it.combinations(bills, n):\n",
    "        if sum(combination) == 100:\n",
    "            makes_100.append(combination)\n",
    "            \n",
    "print(len(set(makes_100)))"
   ]
  },
  {
   "cell_type": "code",
   "execution_count": null,
   "metadata": {},
   "outputs": [],
   "source": []
  }
 ],
 "metadata": {
  "kernelspec": {
   "display_name": "Python 3",
   "language": "python",
   "name": "python3"
  },
  "language_info": {
   "codemirror_mode": {
    "name": "ipython",
    "version": 3
   },
   "file_extension": ".py",
   "mimetype": "text/x-python",
   "name": "python",
   "nbconvert_exporter": "python",
   "pygments_lexer": "ipython3",
   "version": "3.6.2"
  }
 },
 "nbformat": 4,
 "nbformat_minor": 2
}
