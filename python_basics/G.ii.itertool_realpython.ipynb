{
 "cells": [
  {
   "cell_type": "markdown",
   "metadata": {},
   "source": [
    "https://realpython.com/python-itertools/"
   ]
  },
  {
   "cell_type": "code",
   "execution_count": 4,
   "metadata": {},
   "outputs": [],
   "source": [
    "import itertools as it"
   ]
  },
  {
   "cell_type": "code",
   "execution_count": 6,
   "metadata": {},
   "outputs": [
    {
     "name": "stdout",
     "output_type": "stream",
     "text": [
      "[(1, 'a'), (2, 'b'), (3, 'c')]\n",
      "[(1, 'a'), (2, 'b'), (3, 'c'), (4, None), (5, None)]\n"
     ]
    }
   ],
   "source": [
    "x = [1, 2, 3, 4, 5]\n",
    "y = ['a', 'b', 'c']\n",
    "print(list(zip(x, y)))\n",
    "print(list(it.zip_longest(x, y)))"
   ]
  },
  {
   "cell_type": "markdown",
   "metadata": {},
   "source": [
    "How many ways can you make change for a $100 dollar bill?"
   ]
  },
  {
   "cell_type": "code",
   "execution_count": 12,
   "metadata": {},
   "outputs": [
    {
     "name": "stdout",
     "output_type": "stream",
     "text": [
      "[20, 20, 20, 10, 10, 10, 10, 10, 5, 5, 1, 1, 1, 1, 1]\n"
     ]
    }
   ],
   "source": [
    "bills = [20]*3 + [10]*5 + [5]*2 + [1]*5\n",
    "print(bills)"
   ]
  },
  {
   "cell_type": "code",
   "execution_count": 21,
   "metadata": {},
   "outputs": [
    {
     "name": "stdout",
     "output_type": "stream",
     "text": [
      "5\n"
     ]
    }
   ],
   "source": [
    "# A choice of k things from a set of n things is called a combination\n",
    "makes_100 = []\n",
    "for n in range(1, len(bills) + 1):\n",
    "    for combination in it.combinations(bills, n):\n",
    "        if sum(combination) == 100:\n",
    "            makes_100.append(combination)\n",
    "            \n",
    "print(len(set(makes_100)))"
   ]
  },
  {
   "cell_type": "markdown",
   "metadata": {},
   "source": [
    "How many ways are there to make change for a $100 bill using any number of $50, $20, $10, $5, and $1 dollar bills?"
   ]
  },
  {
   "cell_type": "code",
   "execution_count": 22,
   "metadata": {},
   "outputs": [],
   "source": [
    "bills = [50, 20, 10, 5, 1]\n",
    "make_100 = []\n",
    "for n in range(1, 101):\n",
    "    for combination in it.combinations_with_replacement(bills, n):\n",
    "        if sum(combination) == 100:\n",
    "            makes_100.append(combination)"
   ]
  },
  {
   "cell_type": "code",
   "execution_count": 24,
   "metadata": {},
   "outputs": [
    {
     "data": {
      "text/plain": [
       "[('a', 'b'), ('a', 'c'), ('b', 'a'), ('b', 'c'), ('c', 'a'), ('c', 'b')]"
      ]
     },
     "execution_count": 24,
     "metadata": {},
     "output_type": "execute_result"
    }
   ],
   "source": [
    "list(it.permutations(['a', 'b', 'c'], 2))"
   ]
  },
  {
   "cell_type": "code",
   "execution_count": null,
   "metadata": {},
   "outputs": [],
   "source": []
  }
 ],
 "metadata": {
  "kernelspec": {
   "display_name": "Python 3",
   "language": "python",
   "name": "python3"
  },
  "language_info": {
   "codemirror_mode": {
    "name": "ipython",
    "version": 3
   },
   "file_extension": ".py",
   "mimetype": "text/x-python",
   "name": "python",
   "nbconvert_exporter": "python",
   "pygments_lexer": "ipython3",
   "version": "3.6.2"
  }
 },
 "nbformat": 4,
 "nbformat_minor": 2
}
