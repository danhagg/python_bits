{
 "cells": [
  {
   "cell_type": "markdown",
   "metadata": {},
   "source": [
    "###### Machine Learning\n",
    "The acquisition of knowledge by extracting patterns from raw data\n",
    "\n",
    "ML algorithms depend heavily upon the __representation__ of the data they are given.\n",
    "\n",
    "Each representation may be made of __features__. ML algorithms can be designed to extract certain features. Using ML to discover not only the mapping from representation to output but also the representation itself is known as __representation learning__. Learned representations may resut in much better performance than hand-designed representations. They also require minimal human intervention.\n",
    "\n",
    "When designing features or algorithms for learning features, our goal is usually to separate the __factors of variation__ that explain the observed data.\n",
    "\n",
    "###### Deep Learning\n",
    "Features and representations also vary eg, pixels may be red in light but black at night. __Deep learning__ solves this central problem in representation learning by introducing representations that are expressed in terms of other, simpler representations. "
   ]
  },
  {
   "cell_type": "code",
   "execution_count": null,
   "metadata": {},
   "outputs": [],
   "source": []
  }
 ],
 "metadata": {
  "kernelspec": {
   "display_name": "Python 3",
   "language": "python",
   "name": "python3"
  },
  "language_info": {
   "codemirror_mode": {
    "name": "ipython",
    "version": 3
   },
   "file_extension": ".py",
   "mimetype": "text/x-python",
   "name": "python",
   "nbconvert_exporter": "python",
   "pygments_lexer": "ipython3",
   "version": "3.6.2"
  }
 },
 "nbformat": 4,
 "nbformat_minor": 2
}
