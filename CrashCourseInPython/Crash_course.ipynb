{
 "cells": [
  {
   "cell_type": "markdown",
   "metadata": {},
   "source": [
    "# make a list"
   ]
  },
  {
   "cell_type": "code",
   "execution_count": 61,
   "metadata": {},
   "outputs": [
    {
     "name": "stdout",
     "output_type": "stream",
     "text": [
      "['kafah', 'omid', 'dan'] ['haitham', 'laith', 'lilly', 'rocco']\n"
     ]
    }
   ],
   "source": [
    "family = ['kafah', 'omid', 'dan']\n",
    "kids = ['haitham', 'laith', 'lilly', 'rocco']\n",
    "print(family, kids)"
   ]
  },
  {
   "cell_type": "markdown",
   "metadata": {},
   "source": [
    "# list methods \n",
    "## (append, insert, extend, index, remove, pop)"
   ]
  },
  {
   "cell_type": "code",
   "execution_count": 62,
   "metadata": {},
   "outputs": [
    {
     "name": "stdout",
     "output_type": "stream",
     "text": [
      "['kafah', 'omid', 'dan', 'lilly']\n",
      "kafah\n",
      "['omid', 'dan', 'Eamon', 'lilly']\n"
     ]
    }
   ],
   "source": [
    "family.append(kids[2])\n",
    "print(family)\n",
    "print(family.pop(0))\n",
    "family.insert(2, 'Eamon')\n",
    "print(family)"
   ]
  },
  {
   "cell_type": "markdown",
   "metadata": {},
   "source": [
    "# for loop through a sliced list"
   ]
  },
  {
   "cell_type": "code",
   "execution_count": 56,
   "metadata": {},
   "outputs": [
    {
     "name": "stdout",
     "output_type": "stream",
     "text": [
      "Austin\n",
      "Ougadougadoo\n"
     ]
    }
   ],
   "source": [
    "cities = ['paris','london','houston','austin','Ougadougadoo']\n",
    "for city in cities[-2:]:\n",
    "    print(city.title())"
   ]
  },
  {
   "cell_type": "markdown",
   "metadata": {},
   "source": [
    "# for loop and output to a list (long version)"
   ]
  },
  {
   "cell_type": "code",
   "execution_count": 57,
   "metadata": {},
   "outputs": [
    {
     "name": "stdout",
     "output_type": "stream",
     "text": [
      "[1, 4, 9, 16, 25, 36, 49, 64, 81, 100]\n"
     ]
    }
   ],
   "source": [
    "squares = []\n",
    "for value in range(1,11):\n",
    "    square=value**2\n",
    "    squares.append(square)\n",
    "print(squares)"
   ]
  },
  {
   "cell_type": "markdown",
   "metadata": {},
   "source": [
    "# for loop output to list short version. \"list comprehension\""
   ]
  },
  {
   "cell_type": "code",
   "execution_count": 43,
   "metadata": {},
   "outputs": [
    {
     "name": "stdout",
     "output_type": "stream",
     "text": [
      "[1, 16, 49, 100, 169, 256, 361, 484, 625, 784, 961]\n"
     ]
    }
   ],
   "source": [
    "squares =[value**2 for value in range(1,33,3)]\n",
    "print(squares)"
   ]
  },
  {
   "cell_type": "markdown",
   "metadata": {},
   "source": [
    "# list comprehension (string example)"
   ]
  },
  {
   "cell_type": "code",
   "execution_count": 9,
   "metadata": {},
   "outputs": [
    {
     "name": "stdout",
     "output_type": "stream",
     "text": [
      "[5, 5, 3, 5, 4, 4, 3]\n"
     ]
    }
   ],
   "source": [
    "sentence = \"the quick brown fox jumps over the lazy dog\"\n",
    "words = sentence.split()\n",
    "word_lengths = [len(word) for word in words if word != \"the\"]\n",
    "print(word_lengths)"
   ]
  },
  {
   "cell_type": "markdown",
   "metadata": {},
   "source": [
    "# if statement (strings)"
   ]
  },
  {
   "cell_type": "code",
   "execution_count": 7,
   "metadata": {},
   "outputs": [
    {
     "name": "stdout",
     "output_type": "stream",
     "text": [
      "AUDI\n",
      "Bmw\n",
      "Subaru\n",
      "Toyota\n"
     ]
    }
   ],
   "source": [
    "cars = ['Audi', 'bmw', 'subaru', 'toyota']\n",
    "for car in cars:\n",
    "    if car.lower() == 'audi':\n",
    "        print(car.upper())\n",
    "    else:\n",
    "        print(car.title())"
   ]
  },
  {
   "cell_type": "markdown",
   "metadata": {},
   "source": [
    "# if statement (numerical variables + single print statement)"
   ]
  },
  {
   "cell_type": "code",
   "execution_count": 8,
   "metadata": {},
   "outputs": [
    {
     "name": "stdout",
     "output_type": "stream",
     "text": [
      "your admission is 5!\n"
     ]
    }
   ],
   "source": [
    "age1 = 13\n",
    "if age1 < 4:\n",
    "    price = 0\n",
    "elif age1 < 18:\n",
    "    price = 5\n",
    "else:\n",
    "    price = 10\n",
    "print (\"your admission is \" + str(price) + \"!\")"
   ]
  },
  {
   "cell_type": "markdown",
   "metadata": {},
   "source": [
    "# while loop (standard iterator)"
   ]
  },
  {
   "cell_type": "code",
   "execution_count": 6,
   "metadata": {},
   "outputs": [
    {
     "name": "stdout",
     "output_type": "stream",
     "text": [
      "1\n",
      "2\n",
      "3\n",
      "4\n",
      "5\n"
     ]
    }
   ],
   "source": [
    "current_number = 1\n",
    "while current_number <= 5:\n",
    "    print(current_number)\n",
    "    current_number += 1"
   ]
  },
  {
   "cell_type": "markdown",
   "metadata": {},
   "source": [
    "# while loops in IDLE... using 1) \"active = True\", 2) break, 3) continue."
   ]
  },
  {
   "cell_type": "markdown",
   "metadata": {},
   "source": [
    "prompt = \"\\nTell me something, and I will repeat it back to you: \" prompt += \"\\nEnter 'quit' to end the program. \"\n",
    "active = True while active: message = input(prompt) if message == 'quit': active = False else: print (message)"
   ]
  },
  {
   "cell_type": "markdown",
   "metadata": {},
   "source": [
    "prompt = \"\\nPlease enter the name of a city you have visited: \"\n",
    "prompt += \"\\nEnter 'quit' when you are finished.) \" while True: city = input (prompt) if city == 'quit': break else: print(\"I'd love to go to \" + city.title() + \"!\")"
   ]
  },
  {
   "cell_type": "markdown",
   "metadata": {},
   "source": [
    "        current_number = 0\n",
    "while current_number < 10:\n",
    "\tcurrent_number += 1\n",
    "\tif current_number % 2 == 0:\n",
    "\t\tcontinue\n",
    "\tprint(current_number)"
   ]
  },
  {
   "cell_type": "markdown",
   "metadata": {},
   "source": [
    "# make a dictionary"
   ]
  },
  {
   "cell_type": "code",
   "execution_count": 1,
   "metadata": {},
   "outputs": [
    {
     "name": "stdout",
     "output_type": "stream",
     "text": [
      "{'sarah': 'c', 'jen': 'python', 'ed': 'ruby', 'phil': 'python'}\n"
     ]
    }
   ],
   "source": [
    "fav_languages = {\n",
    "    'jen': 'python',\n",
    "    'sarah': 'c',\n",
    "    'ed': 'ruby',\n",
    "    'phil': 'python',\n",
    "    }\n",
    "print(fav_languages)"
   ]
  },
  {
   "cell_type": "markdown",
   "metadata": {},
   "source": [
    "# looping through dictionaries, \"for key, value in dictionary.method\" method = items"
   ]
  },
  {
   "cell_type": "code",
   "execution_count": 9,
   "metadata": {},
   "outputs": [
    {
     "name": "stdout",
     "output_type": "stream",
     "text": [
      "\n",
      "Key: sarah\n",
      "Value: c\n",
      "\n",
      "Key: jen\n",
      "Value: python\n",
      "\n",
      "Key: ed\n",
      "Value: ruby\n",
      "\n",
      "Key: phil\n",
      "Value: python\n"
     ]
    }
   ],
   "source": [
    "for key, value in fav_languages.items():\n",
    "    print(\"\\nKey: \" + key)\n",
    "    print(\"Value: \" + value)"
   ]
  },
  {
   "cell_type": "markdown",
   "metadata": {},
   "source": [
    "# method = keys"
   ]
  },
  {
   "cell_type": "code",
   "execution_count": 58,
   "metadata": {},
   "outputs": [
    {
     "name": "stdout",
     "output_type": "stream",
     "text": [
      "Ronnie, please take poll!\n"
     ]
    }
   ],
   "source": [
    "if 'Ronnie' not in fav_languages.keys():\n",
    "    print(\"Ronnie, please take poll!\")"
   ]
  },
  {
   "cell_type": "markdown",
   "metadata": {},
   "source": [
    "# method = values"
   ]
  },
  {
   "cell_type": "code",
   "execution_count": 12,
   "metadata": {},
   "outputs": [
    {
     "name": "stdout",
     "output_type": "stream",
     "text": [
      "C\n",
      "Python\n",
      "Ruby\n"
     ]
    }
   ],
   "source": [
    "# wrap set around list (set = unique)\n",
    "for lang in set(fav_languages.values()):\n",
    "    print(lang.title())"
   ]
  },
  {
   "cell_type": "markdown",
   "metadata": {},
   "source": [
    "# list in dictionary (nested for loops)"
   ]
  },
  {
   "cell_type": "code",
   "execution_count": 4,
   "metadata": {},
   "outputs": [
    {
     "name": "stdout",
     "output_type": "stream",
     "text": [
      "\n",
      "Sarah's favorite languages are: \n",
      "\tC\n",
      "\n",
      "Jen's favorite languages are: \n",
      "\tPython\n",
      "\tRuby\n",
      "\n",
      "Ed's favorite languages are: \n",
      "\tRuby\n",
      "\tGo\n",
      "\n",
      "Phil's favorite languages are: \n",
      "\tPython\n",
      "\tHaskell\n"
     ]
    }
   ],
   "source": [
    "new_languages = {\n",
    "    'jen': ['python', 'ruby'],\n",
    "    'sarah': ['c'],\n",
    "    'ed': ['ruby', 'go'],\n",
    "    'phil': ['python', 'haskell']\n",
    "}\n",
    "# two loops, 1st thru dict second thru list\n",
    "for name, languages in new_languages.items():\n",
    "    print(\"\\n\" + name.title() + \"'s favorite languages are: \")\n",
    "    for language in languages:\n",
    "        print(\"\\t\" + language.title())"
   ]
  },
  {
   "cell_type": "code",
   "execution_count": 3,
   "metadata": {
    "slideshow": {
     "slide_type": "-"
    }
   },
   "outputs": [
    {
     "ename": "SyntaxError",
     "evalue": "invalid syntax (<ipython-input-3-c4167b61b811>, line 3)",
     "output_type": "error",
     "traceback": [
      "\u001b[0;36m  File \u001b[0;32m\"<ipython-input-3-c4167b61b811>\"\u001b[0;36m, line \u001b[0;32m3\u001b[0m\n\u001b[0;31m    for name, languages in new_languages.items(): print(\"\\n\" + name.title() + \"'s favorite languages are: \") for language in languages: print(\"\\t\" + language.title())\u001b[0m\n\u001b[0m                                                                                                               ^\u001b[0m\n\u001b[0;31mSyntaxError\u001b[0m\u001b[0;31m:\u001b[0m invalid syntax\n"
     ]
    }
   ],
   "source": [
    "new_languages = { 'jen': ['python', 'ruby'], 'sarah': ['c'], 'ed': ['ruby', 'go'], 'phil': ['python', 'haskell'] }\n",
    "# two loops, 1st thru dict second thru list\n",
    "for name, languages in new_languages.items(): print(\"\\n\" + name.title() + \"'s favorite languages are: \") for language in languages: print(\"\\t\" + language.title())"
   ]
  },
  {
   "cell_type": "markdown",
   "metadata": {},
   "source": [
    "# ordering dicts"
   ]
  },
  {
   "cell_type": "code",
   "execution_count": 3,
   "metadata": {},
   "outputs": [
    {
     "name": "stdout",
     "output_type": "stream",
     "text": [
      "Jen's favorite language is Python.\n",
      "Sarah's favorite language is C.\n",
      "Edward's favorite language is Ruby.\n",
      "Phil's favorite language is Python.\n"
     ]
    }
   ],
   "source": [
    "from collections import OrderedDict\n",
    "favorite_languages = OrderedDict()\n",
    "favorite_languages ['jen'] = 'python'\n",
    "favorite_languages ['sarah'] = 'c'\n",
    "favorite_languages ['edward'] = 'ruby'\n",
    "favorite_languages ['phil'] = 'python'\n",
    "\n",
    "for name, language in favorite_languages.items():\n",
    "    print(name.title() + \"'s favorite language is \" +\n",
    "          language.title() + \".\")"
   ]
  },
  {
   "cell_type": "markdown",
   "metadata": {},
   "source": [
    "# Dictionary in dictionary"
   ]
  },
  {
   "cell_type": "code",
   "execution_count": 2,
   "metadata": {},
   "outputs": [
    {
     "name": "stdout",
     "output_type": "stream",
     "text": [
      "\n",
      "Username: aeinstein\n",
      "\tFull name: Albert Einstein\n",
      "\tLocation: Princeton\n",
      "\n",
      "Username: mcurie\n",
      "\tFull name: Marie Curie\n",
      "\tLocation: Paris\n"
     ]
    }
   ],
   "source": [
    "users = {\n",
    "    'aeinstein': {\n",
    "        'first': 'albert',\n",
    "        'last': 'einstein',\n",
    "        'location': 'princeton',\n",
    "        },\n",
    "    'mcurie': {\n",
    "        'first': 'marie',\n",
    "        'last': 'curie',\n",
    "        'location': 'paris', }}\n",
    "\n",
    "for username, user_info in users.items():\n",
    "    print(\"\\nUsername: \" + username)\n",
    "    full_name = user_info['first'] + \" \" + user_info['last']\n",
    "    location = user_info['location']\n",
    "\n",
    "    print(\"\\tFull name: \" + full_name.title())\n",
    "    print(\"\\tLocation: \" + location.title())"
   ]
  },
  {
   "cell_type": "markdown",
   "metadata": {},
   "source": [
    "# How to populate a list of dictionaries"
   ]
  },
  {
   "cell_type": "code",
   "execution_count": 14,
   "metadata": {},
   "outputs": [
    {
     "name": "stdout",
     "output_type": "stream",
     "text": [
      "{'speed': 'slow', 'points': 5, 'color': 'green'}\n",
      "{'speed': 'slow', 'points': 5, 'color': 'green'}\n",
      "{'speed': 'slow', 'points': 5, 'color': 'green'}\n",
      "{'speed': 'slow', 'points': 5, 'color': 'green'}\n",
      "{'speed': 'slow', 'points': 5, 'color': 'green'}\n",
      "...\n"
     ]
    }
   ],
   "source": [
    "# make an empty list for storing aliens.\n",
    "aliens = []\n",
    "# Make 30 green aliens\n",
    "for alien_number in range(30):\n",
    "    new_alien = {'color': 'green', 'points': 5, 'speed': 'slow'}\n",
    "    aliens.append(new_alien)\n",
    "    \n",
    "    # show first 5 aliens\n",
    "for alien in aliens[:5]:\n",
    "    print(alien)\n",
    "print(\"...\")"
   ]
  },
  {
   "cell_type": "markdown",
   "metadata": {
    "collapsed": true
   },
   "source": [
    "# While loop + lists/dicts\n",
    "\"for\" loops effective for looping thru a list but not for modifying lists as u loop through them. To modify a list as u work thru it use \"while\" loop.\n",
    "For example, moving individuals from a populated list of unconfirmed users to an empty list of confirmed users"
   ]
  },
  {
   "cell_type": "code",
   "execution_count": 4,
   "metadata": {},
   "outputs": [
    {
     "name": "stdout",
     "output_type": "stream",
     "text": [
      "Verifying user: Candace\n",
      "Verifying user: Brian\n",
      "Verifying user: Alice\n",
      "\n",
      "The following users have been confirmed: \n",
      "Candace\n",
      "Brian\n",
      "Alice\n"
     ]
    }
   ],
   "source": [
    "unconfirmed_users = ['alice', 'brian', 'candace']\n",
    "confirmed_users = []\n",
    "while unconfirmed_users:\n",
    "    current_user = unconfirmed_users.pop()\n",
    "    print(\"Verifying user: \" + current_user.title())    \n",
    "    confirmed_users.append(current_user)\n",
    "    \n",
    "print(\"\\nThe following users have been confirmed: \")\n",
    "for confirmed_user in confirmed_users:\n",
    "    print(confirmed_user.title())"
   ]
  },
  {
   "cell_type": "markdown",
   "metadata": {},
   "source": [
    "# removing instances of \"x\" from a list"
   ]
  },
  {
   "cell_type": "code",
   "execution_count": 6,
   "metadata": {},
   "outputs": [
    {
     "name": "stdout",
     "output_type": "stream",
     "text": [
      "['dog', 'cat', 11, 'dog', 4, 'cat']\n",
      "['dog', 11, 'dog', 4, 'cat']\n",
      "['dog', 11, 'dog', 4]\n"
     ]
    }
   ],
   "source": [
    "pets = ['dog', 'cat', 11, 'dog', 4, 'cat']\n",
    "print(pets)\n",
    "while 'cat' in pets:\n",
    "    pets.remove('cat')\n",
    "    print(pets)"
   ]
  },
  {
   "cell_type": "code",
   "execution_count": 10,
   "metadata": {},
   "outputs": [
    {
     "name": "stdout",
     "output_type": "stream",
     "text": [
      "\n",
      "What is your name? dan\n",
      "Which mountain would you like to climb? eversest\n",
      "Would you like to let another person respond? (yes/no)no\n",
      "\n",
      "--- Poll Results ---\n",
      "dan would like to climb eversest.\n"
     ]
    }
   ],
   "source": [
    "# filling a dict with user input (IDLE)\n",
    "# prompting for all necessary input with a while loop\n",
    "responses ={}\n",
    "#set a flag to indicate polling is active\n",
    "polling_active = True #while polling active \n",
    "name = input(\"\\nWhat is your name? \") \n",
    "response = input(\"Which mountain would you like to climb? \")\n",
    "# store response in dictionary\n",
    "responses[name] =response\n",
    "# Find out if anyone else is going to take poll\n",
    "repeat = input(\"Would you like to let another person respond? (yes/no)\")\n",
    "if repeat == 'no':\n",
    "    polling_active = False\n",
    "\n",
    "    # Polling is complete. Show results.\n",
    "    print(\"\\n--- Poll Results ---\")\n",
    "    for name, response in responses.items():\n",
    "        print(name + \" would like to climb \" + response + \".\")"
   ]
  },
  {
   "cell_type": "markdown",
   "metadata": {
    "collapsed": true
   },
   "source": [
    "# Functions\n",
    "Empty(), means requires no input\n",
    "\"pass\" means no function code written yet"
   ]
  },
  {
   "cell_type": "markdown",
   "metadata": {},
   "source": [
    "1) Positional parameters. 2) Keywords (position-independent)"
   ]
  },
  {
   "cell_type": "code",
   "execution_count": 2,
   "metadata": {},
   "outputs": [
    {
     "name": "stdout",
     "output_type": "stream",
     "text": [
      "\n",
      "I have a maltipoo.\n",
      "My maltipoo's name is Oliver\n",
      "\n",
      "I have a German Shepherd.\n",
      "My German Shepherd's name is Izzy\n"
     ]
    }
   ],
   "source": [
    "def describe_dog(dog_type, dog_name):\n",
    "    \"\"\"Display info on dog\"\"\"\n",
    "    print(\"\\nI have a \" + dog_type + \".\")\n",
    "    print(\"My \" + dog_type + \"'s name is \" + dog_name.title())\n",
    "describe_dog('maltipoo', 'Oliver')\n",
    "describe_dog(dog_name='Izzy', dog_type='German Shepherd')"
   ]
  },
  {
   "cell_type": "markdown",
   "metadata": {},
   "source": [
    "# default values"
   ]
  },
  {
   "cell_type": "code",
   "execution_count": 3,
   "metadata": {
    "scrolled": true
   },
   "outputs": [
    {
     "name": "stdout",
     "output_type": "stream",
     "text": [
      "\n",
      "I have a dog.\n",
      "My dog's name is Derek\n",
      "\n",
      "I have a unicorn.\n",
      "My unicorn's name is Cindarella\n"
     ]
    }
   ],
   "source": [
    "def describe_animal(pet_name, animal_type='dog'):\n",
    "    \"\"\"Display info on animal\"\"\"\n",
    "    print(\"\\nI have a \" + animal_type + \".\")\n",
    "    print(\"My \" + animal_type + \"'s name is \" + pet_name.title())\n",
    "describe_animal('Derek') # pet_name is still positional\n",
    "describe_animal('Cindarella', animal_type='unicorn')"
   ]
  },
  {
   "cell_type": "markdown",
   "metadata": {},
   "source": [
    "# Return statement + optional argument into dict"
   ]
  },
  {
   "cell_type": "code",
   "execution_count": 6,
   "metadata": {},
   "outputs": [
    {
     "name": "stdout",
     "output_type": "stream",
     "text": [
      "{'last': 'Soze', 'first': 'Keyzer', 'age': 2000}\n"
     ]
    }
   ],
   "source": [
    "def build_person(first_name, last_name, age=''):\n",
    "    \"\"\"return a dict of info about a person\"\"\"\n",
    "    person = {'first': first_name, 'last': last_name}\n",
    "    if age:\n",
    "        person['age'] = age\n",
    "    return person\n",
    "character = build_person('Keyzer', 'Soze', age=2000)\n",
    "print(character)"
   ]
  },
  {
   "cell_type": "markdown",
   "metadata": {},
   "source": [
    "# pass list to function"
   ]
  },
  {
   "cell_type": "code",
   "execution_count": 7,
   "metadata": {},
   "outputs": [
    {
     "name": "stdout",
     "output_type": "stream",
     "text": [
      "Hello, Hannah!\n",
      "Hello, Nat!\n",
      "Hello, Jen!\n"
     ]
    }
   ],
   "source": [
    "def greet_users(names):\n",
    "    \"\"\"Print a simple greeting to each user in the list\"\"\"\n",
    "    for name in names:\n",
    "        msg = \"Hello, \" + name.title() + \"!\"\n",
    "        print(msg)\n",
    "\n",
    "usernames = ['hannah', 'nat', 'jen']\n",
    "greet_users(usernames)"
   ]
  },
  {
   "cell_type": "markdown",
   "metadata": {},
   "source": [
    "# Modifying a list in a function input-output list"
   ]
  },
  {
   "cell_type": "code",
   "execution_count": 19,
   "metadata": {},
   "outputs": [
    {
     "name": "stdout",
     "output_type": "stream",
     "text": [
      "Printing model: dodecahedron\n",
      "Printing model: robot pendant\n",
      "Printing model: iphone case\n",
      "\n",
      "The following models have been printed:\n",
      "dodecahedron\n",
      "robot pendant\n",
      "iphone case\n"
     ]
    }
   ],
   "source": [
    "def print_models(unprinted_designs, completed_models):\n",
    "    \"\"\"Simulate printing each design, until none are left.\n",
    "    Move each design to printed models after printing\"\"\"\n",
    "    while unprinted_designs:\n",
    "        current_design = unprinted_designs.pop()\n",
    "        print(\"Printing model: \" + current_design)\n",
    "        completed_models.append(current_design)\n",
    "\n",
    "def show_completed_models(completed_models):\n",
    "    \"\"\"show all models that were printed\"\"\"\n",
    "    print(\"\\nThe following models have been printed:\")\n",
    "    for completed_model in completed_models:\n",
    "        print(completed_model)\n",
    "        \n",
    "# body of program\n",
    "unprinted_designs = ['iphone case', 'robot pendant', 'dodecahedron']\n",
    "completed_models = []\n",
    "print_models(unprinted_designs, completed_models)\n",
    "show_completed_models(completed_models)"
   ]
  },
  {
   "cell_type": "markdown",
   "metadata": {},
   "source": [
    "# Preventing a function modifying a list\n",
    "send a copy of list to function using slice notation (slower and uses more memory)"
   ]
  },
  {
   "cell_type": "code",
   "execution_count": 17,
   "metadata": {
    "collapsed": true
   },
   "outputs": [],
   "source": [
    "print_models(unprinted_designs[:], completed_models)"
   ]
  },
  {
   "cell_type": "markdown",
   "metadata": {},
   "source": [
    "# Passing arbitrary numbers of arguments when unknown\n",
    "*indicates make a tuple"
   ]
  },
  {
   "cell_type": "code",
   "execution_count": 12,
   "metadata": {},
   "outputs": [
    {
     "name": "stdout",
     "output_type": "stream",
     "text": [
      "\n",
      "Making a pizz with the following toppings: \n",
      "- pepporoni\n",
      "\n",
      "Making a pizz with the following toppings: \n",
      "- mushrooms\n",
      "- cheese\n"
     ]
    }
   ],
   "source": [
    "def make_pizza(*toppings):\n",
    "    \"\"\"Print list of toppings that have been requested\"\"\"\n",
    "    print(\"\\nMaking a pizz with the following toppings: \")\n",
    "    for topping in toppings:\n",
    "        print(\"- \" + topping)\n",
    "\n",
    "make_pizza('pepporoni')\n",
    "make_pizza('mushrooms', 'cheese')"
   ]
  },
  {
   "cell_type": "markdown",
   "metadata": {},
   "source": [
    "# Mixing positional and arbitrary arguments (arbitrary arg at end)"
   ]
  },
  {
   "cell_type": "code",
   "execution_count": 13,
   "metadata": {},
   "outputs": [
    {
     "name": "stdout",
     "output_type": "stream",
     "text": [
      "\n",
      "Making a 16-inch pizza with the following toppings: \n",
      "- pepporoni\n",
      "\n",
      "Making a 12-inch pizza with the following toppings: \n",
      "- mushrooms\n",
      "- cheese\n"
     ]
    }
   ],
   "source": [
    "def make_pizza(size, *toppings):\n",
    "    \"\"\"Print list of toppings that have been requested\"\"\"\n",
    "    print(\"\\nMaking a \" + str(size) + \"-inch pizza with the following toppings: \")\n",
    "    for topping in toppings:\n",
    "        print(\"- \" + topping)\n",
    "\n",
    "make_pizza(16, 'pepporoni')\n",
    "make_pizza(12, 'mushrooms', 'cheese')"
   ]
  },
  {
   "cell_type": "markdown",
   "metadata": {},
   "source": [
    "# Using arbitrary keyword arguments **creates empty dict"
   ]
  },
  {
   "cell_type": "code",
   "execution_count": 14,
   "metadata": {},
   "outputs": [
    {
     "name": "stdout",
     "output_type": "stream",
     "text": [
      "{'last_name': 'einstein', 'race': 'jew', 'first_name': 'albert'}\n"
     ]
    }
   ],
   "source": [
    "def build_profile(first, last, **user_info):\n",
    "    \"\"\"Build a dictionary containing everything we know of user\"\"\"\n",
    "    profile = {}\n",
    "    profile['first_name'] = first\n",
    "    profile['last_name'] = last\n",
    "    for key, value in user_info.items():\n",
    "        profile[key] = value\n",
    "        return profile\n",
    "user_profile = build_profile('albert', 'einstein', location='princeton', field='physics', race='jew')\n",
    "\n",
    "print(user_profile)"
   ]
  },
  {
   "cell_type": "code",
   "execution_count": 6,
   "metadata": {},
   "outputs": [
    {
     "name": "stdout",
     "output_type": "stream",
     "text": [
      "2016 Volkswagen Beetle\n",
      "2016 Tesla Roadster\n"
     ]
    }
   ],
   "source": [
    "\"\"\"A class that can be used o represent a car\"\"\"\n",
    "\n",
    "class Car():\n",
    "\n",
    "    def __init__(self, make, model, year):\n",
    "        \"\"\"Initialize attributes to describe a car\"\"\"\n",
    "        self.make = make\n",
    "        self.model = model\n",
    "        self.year = year\n",
    "        self.odometer_reading = 0\n",
    "\n",
    "    def get_descriptive_name(self):\n",
    "        \"\"\"Return a neatly formatted descriptive name\"\"\"\n",
    "        long_name = str(self.year) + ' ' + self.make + ' ' + self.model\n",
    "        return long_name.title()\n",
    "\n",
    "    def read_odometer(self):\n",
    "        \"\"\"Print a statement showing cars's mileage\"\"\"\n",
    "        print(\"This car has \" + str(self.odometer_reading) + \" miles on it\")\n",
    "\n",
    "    def update_odometer(self, mileage):\n",
    "        \"\"\"set the odometer reading to the given value\n",
    "        Reject the change if it attempts to roll the odometer back\"\"\"\n",
    "        if mileage >= self.odometer_reading:\n",
    "            self.odometer_reading = mileage\n",
    "        else:\n",
    "            print(\"Oi, you dodgy get, stop rolling odometer backwards\")\n",
    "\n",
    "    def increment_odometer(self, miles):\n",
    "        \"\"\"Add the given amount to odometer reading\"\"\"\n",
    "        self.odometer_reading += miles\n",
    "\n",
    "\n",
    "# as class grows it may be wise to seperate (battery doesnt inherit)\n",
    "class Battery():\n",
    "    \"\"\"A simple attempt to model a battery for an electric car\"\"\"\n",
    "\n",
    "    def __init__(self, battery_size=70): # default option 70\n",
    "        \"\"\"initialize batteries attributes\"\"\"\n",
    "        self.battery_size = battery_size\n",
    "\n",
    "    def describe_battery(self):\n",
    "        \"\"\"Print a statement describing battery size\"\"\"\n",
    "        print(\"This car has a \" + str(self.battery_size) + \"-kWh battery\")\n",
    "\n",
    "    def get_range(self):\n",
    "        \"\"\"Print statement about range of this battery\"\"\"\n",
    "        if self.battery_size == 70:\n",
    "            range = 240\n",
    "        elif self.battery_size == 85:\n",
    "            range = 270\n",
    "        message = \"This car can go approx \" + str(range)\n",
    "        message += \" miles on a full charge\"\n",
    "        print(message)\n",
    "\n",
    "\n",
    "# child class, with parent class in parentheses\n",
    "class ElectricCar(Car):\n",
    "    \"\"\"Represent aspects of a car, specific to electric vehicles\"\"\"\n",
    "    def __init__(self, make, model, year):\n",
    "        \"\"\"Initialize attributes of the parent class.\n",
    "        Then initialize attributes specific to electric cars\"\"\"\n",
    "        # super function helps python make parent-child connection\n",
    "        super().__init__(make, model, year)\n",
    "        # new attribute specific to ElectricCar not Car\n",
    "        # attribute now taken from new class Battery\n",
    "        self.battery = Battery()\n",
    "\n",
    "\n",
    "    # child method can be added, identical name to parent. Child overrides.\n",
    "    def fill_gas_tank():\n",
    "        \"\"\"Electric cars dont have gas tanks\"\"\"\n",
    "        print(\"This car doesnt take gas u knobhead\")\n",
    "        \n",
    "import car\n",
    "\n",
    "my_beetle = car.Car('volkswagen', 'beetle', 2016)\n",
    "print(my_beetle.get_descriptive_name())\n",
    "\n",
    "my_tesla = car.ElectricCar('tesla', 'roadster', 2016)\n",
    "print(my_tesla.get_descriptive_name())"
   ]
  },
  {
   "cell_type": "markdown",
   "metadata": {
    "collapsed": true
   },
   "source": [
    "# Example from youtube"
   ]
  },
  {
   "cell_type": "code",
   "execution_count": null,
   "metadata": {
    "collapsed": true
   },
   "outputs": [],
   "source": []
  },
  {
   "cell_type": "markdown",
   "metadata": {},
   "source": [
    "# File and exceptions"
   ]
  },
  {
   "cell_type": "code",
   "execution_count": 8,
   "metadata": {},
   "outputs": [
    {
     "name": "stdout",
     "output_type": "stream",
     "text": [
      "3.1\n",
      "3.1415926\n",
      "3.1415926535\n",
      "\n",
      "  8979323846\n",
      "\n",
      "  2643383279\n",
      "\n",
      "['3.1415926535\\n', '  8979323846\\n', '  2643383279\\n']\n",
      "32\n",
      "Your birthday is in first million digits of pi\n",
      "332417\n",
      "220280\n"
     ]
    }
   ],
   "source": [
    "# open() function takes one argument (name of file to open)\n",
    "# as current file \"File_Exceptions\" is running python looks in same directory\n",
    "# open function returns object stored as file_object\n",
    "# keyword \"with\" closes file once access to it no longer needed\n",
    "# (relative file path) from folder, assumes folder is in current directory\n",
    "with open('text_files/pi_digits.txt') as file_object_1:\n",
    "    contents = file_object_1.read(3)  # char to read\n",
    "    # rstrip removes (if any) whitespace at right end of string\n",
    "    print(contents.rstrip())\n",
    "\n",
    "# (absolute file path)\n",
    "# store absolute filepath in a variable and pass that to open()\n",
    "absolute_file_path = '/Users/danielhaggerty/Google Drive/py/crash/text_files/pi_digits.txt'\n",
    "with open(absolute_file_path) as file_object_2:\n",
    "    size_to_read = 9\n",
    "    contents = file_object_2.read(size_to_read)\n",
    "    print(contents.rstrip())\n",
    "\n",
    "# string tells python where to find file\n",
    "# makes it easy to swap out pi_digits.txt for another file\n",
    "filename = 'pi_digits.txt'\n",
    "with open(filename) as file_object:\n",
    "    # for loop is easier memory load\n",
    "    # and does not risk opening huge file all at once\n",
    "    for line in file_object:\n",
    "        print(line)  # or print(line.rstrip()) to remove blanks\n",
    "\n",
    "# or p remove blanks\n",
    "filename = 'pi_digits.txt'\n",
    "with open(filename) as file_object_3:\n",
    "    # readlines makes a list in \"lines\" we can work with after \"with\" closes file\n",
    "    lines = file_object_3.readlines()\n",
    "    print(lines)\n",
    "    # remove all whitespace\n",
    "    pi_string = ''\n",
    "    for line in lines:\n",
    "        pi_string += line.strip()  # int() or float() if needed\n",
    "\n",
    "    print(len(pi_string))\n",
    "\n",
    "filename = 'chapter_10/pi_million_digits.txt'\n",
    "with open(filename) as file_object_4:\n",
    "    # readlines makes a list in \"lines\" we can work with after \"with\" closes file\n",
    "    lines = file_object_4.readlines()\n",
    "\n",
    "pi_string = ''\n",
    "for line in lines:\n",
    "    pi_string += line.strip()\n",
    "\n",
    "    # print(len(pi_string)) # not gonna do, takes ages\n",
    "birthday = \"220280\"\n",
    "if birthday in pi_string:\n",
    "    print(\"Your birthday is in first million digits of pi\")\n",
    "else:\n",
    "    print(\"Your bday is not in there\")\n",
    "print(pi_string.find(birthday))\n",
    "print(pi_string[332417:332423])\n",
    "\n"
   ]
  },
  {
   "cell_type": "markdown",
   "metadata": {},
   "source": [
    "# write to empty file"
   ]
  },
  {
   "cell_type": "code",
   "execution_count": 5,
   "metadata": {
    "collapsed": true
   },
   "outputs": [],
   "source": [
    "# writing to empty file. Python only write strings to file + str()\n",
    "filename_alpha = 'programming.txt'\n",
    "# 'w' = write mode/ONLY new files, will erase files with content\n",
    "with open(filename_alpha, 'w') as file_object_5:\n",
    "    file_object_5.write(\"I love programming.\\n\")  # write() method\n",
    "    file_object_5.write(\"I love creating new games.\\n\")  # write() method\n",
    "\n",
    "# 'a' = append\n",
    "filename_alpha = 'programming.txt'\n",
    "with open(filename_alpha, 'a') as file_object_5:\n",
    "    file_object_5.write(\"I love appending shit.\\n\")\n",
    "\n",
    "# 'r' = read (default if arg omitted), 'r+' = read and write"
   ]
  },
  {
   "cell_type": "markdown",
   "metadata": {},
   "source": [
    "# error management"
   ]
  },
  {
   "cell_type": "code",
   "execution_count": 2,
   "metadata": {},
   "outputs": [
    {
     "name": "stdout",
     "output_type": "stream",
     "text": [
      "you cant divide by zero\n"
     ]
    }
   ],
   "source": [
    "# python uses objects called exceptions (try-except) to\n",
    "# manage errors that arise during a progs execution\n",
    "# error = create exception obj. Handle it or prog halts + traceback\n",
    "# try-except means progs run even if things go wrong\n",
    "\n",
    "# print(5/0) yields an exception object ZeroDivisionError\n",
    "try:\n",
    "    print(5/0)\n",
    "except ZeroDivisionError:\n",
    "    print(\"you cant divide by zero\")\n",
    "\n",
    "# allowing users to see tracebacks exposes your vulnerabilities and filenames\n",
    "# print(\"Give me two numbers, and I'll divide them.\")\n",
    "# print(\"Enter 'q' to quit.\")\n",
    "\n",
    "# try-except-else block\n",
    "# while True:\n",
    "#     first_number = input(\"\\nFirst number: \")\n",
    "#     if first_number == 'q':\n",
    "#         break\n",
    "#         second_number = input(\"\\nSecond number: \")\n",
    "#         try:\n",
    "#             answer = int(first_number) / int(second_number)\n",
    "#         except ZeroDivisionError:\n",
    "#             print(\"You cant divide by zero\")\n",
    "#         else:\n",
    "#             print(answer)"
   ]
  },
  {
   "cell_type": "markdown",
   "metadata": {},
   "source": [
    "# more error management"
   ]
  },
  {
   "cell_type": "code",
   "execution_count": 3,
   "metadata": {},
   "outputs": [
    {
     "name": "stdout",
     "output_type": "stream",
     "text": [
      "The file chapter_10/alice.txt contains about 29461 words\n",
      "Sorry, the file chapter_10/trainspotting.txt does not exist.\n",
      "The file chapter_10/moby_dick.txt contains about 215136 words\n",
      "The file chapter_10/little_women.txt contains about 189079 words\n"
     ]
    }
   ],
   "source": [
    "# File not found error\n",
    "def count_words(filename):\n",
    "    \"\"\"Count words in files\"\"\"\n",
    "    try:\n",
    "        with open(filename) as f_obj:\n",
    "            contents = f_obj.read()\n",
    "    except FileNotFoundError:  # when looking for 'trainspotting.txt'\n",
    "        msg = \"Sorry, the file \" + filename + \" does not exist.\"\n",
    "        # \"pass' to fail silently\n",
    "        print(msg)\n",
    "    else:\n",
    "        # Count the approx number words in file\n",
    "        words = contents.split()\n",
    "        num_words = len(words)\n",
    "        print(\"The file \" + filename + \" contains about \" +\n",
    "        str(num_words) + \" words\")\n",
    "\n",
    "\n",
    "filenames = ['chapter_10/alice.txt', 'chapter_10/trainspotting.txt',\n",
    "'chapter_10/moby_dick.txt', 'chapter_10/little_women.txt']\n",
    "for filename in filenames:\n",
    "    count_words(filename)"
   ]
  },
  {
   "cell_type": "markdown",
   "metadata": {},
   "source": [
    "# remember_me.py"
   ]
  },
  {
   "cell_type": "code",
   "execution_count": 10,
   "metadata": {
    "collapsed": true
   },
   "outputs": [],
   "source": [
    "# find above file"
   ]
  },
  {
   "cell_type": "markdown",
   "metadata": {},
   "source": [
    "# code testing"
   ]
  },
  {
   "cell_type": "code",
   "execution_count": 13,
   "metadata": {},
   "outputs": [
    {
     "name": "stdout",
     "output_type": "stream",
     "text": [
      "15\n"
     ]
    }
   ],
   "source": [
    "def add_one(n):\n",
    "    return(n+1)\n",
    "add_one(6)\n",
    "\n",
    "def add_two(n):\n",
    "    return(n+2)\n",
    "add_two(6)\n",
    "n=6\n",
    "print(add_one(n)+add_two(n))"
   ]
  },
  {
   "cell_type": "code",
   "execution_count": 18,
   "metadata": {
    "collapsed": true
   },
   "outputs": [],
   "source": [
    "def summ(numbers):\n",
    "    final = 0\n",
    "    for number in numbers:\n",
    "       final += number\n",
    "    return final"
   ]
  },
  {
   "cell_type": "code",
   "execution_count": 16,
   "metadata": {},
   "outputs": [
    {
     "data": {
      "text/plain": [
       "10"
      ]
     },
     "execution_count": 16,
     "metadata": {},
     "output_type": "execute_result"
    }
   ],
   "source": [
    "average1([1,2,3,4])"
   ]
  },
  {
   "cell_type": "code",
   "execution_count": 17,
   "metadata": {},
   "outputs": [
    {
     "data": {
      "text/plain": [
       "2.3333333333333335"
      ]
     },
     "execution_count": 17,
     "metadata": {},
     "output_type": "execute_result"
    }
   ],
   "source": [
    "def divisio(m,n):\n",
    "    return m/n\n",
    "\n",
    "divisio(7,3)"
   ]
  },
  {
   "cell_type": "code",
   "execution_count": 19,
   "metadata": {
    "collapsed": true
   },
   "outputs": [],
   "source": [
    "def average1(numbers):\n",
    "    return divisio(summ(numbers), len(numbers))\n"
   ]
  },
  {
   "cell_type": "code",
   "execution_count": 20,
   "metadata": {},
   "outputs": [
    {
     "data": {
      "text/plain": [
       "3.0"
      ]
     },
     "execution_count": 20,
     "metadata": {},
     "output_type": "execute_result"
    }
   ],
   "source": [
    "average1([1,2,3,4,5])"
   ]
  },
  {
   "cell_type": "code",
   "execution_count": 24,
   "metadata": {},
   "outputs": [
    {
     "data": {
      "text/plain": [
       "'god'"
      ]
     },
     "execution_count": 24,
     "metadata": {},
     "output_type": "execute_result"
    }
   ],
   "source": [
    "# reverse the string and compare to forwards direction\n",
    "word = 'dog'\n",
    "word[::-1]"
   ]
  },
  {
   "cell_type": "code",
   "execution_count": null,
   "metadata": {
    "collapsed": true
   },
   "outputs": [],
   "source": []
  }
 ],
 "metadata": {
  "anaconda-cloud": {},
  "celltoolbar": "Slideshow",
  "kernelspec": {
   "display_name": "Python [default]",
   "language": "python",
   "name": "python3"
  },
  "language_info": {
   "codemirror_mode": {
    "name": "ipython",
    "version": 3
   },
   "file_extension": ".py",
   "mimetype": "text/x-python",
   "name": "python",
   "nbconvert_exporter": "python",
   "pygments_lexer": "ipython3",
   "version": "3.5.2"
  }
 },
 "nbformat": 4,
 "nbformat_minor": 1
}
