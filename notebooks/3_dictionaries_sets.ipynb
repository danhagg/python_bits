{
 "cells": [
  {
   "cell_type": "markdown",
   "metadata": {},
   "source": [
    "# Dictionary comprehension"
   ]
  },
  {
   "cell_type": "code",
   "execution_count": 1,
   "metadata": {},
   "outputs": [],
   "source": [
    "DIAL_CODES = [(86, 'China'), \n",
    "              (91, 'India'),\n",
    "             (44, 'UK'),\n",
    "             (1, 'USA'),\n",
    "             (7, 'Russia')]"
   ]
  },
  {
   "cell_type": "code",
   "execution_count": 2,
   "metadata": {},
   "outputs": [
    {
     "name": "stdout",
     "output_type": "stream",
     "text": [
      "{'China': 86, 'India': 91, 'UK': 44, 'USA': 1, 'Russia': 7}\n"
     ]
    }
   ],
   "source": [
    "# Here we chose to reverse the pairs\n",
    "country_code = {country: code for code, country in DIAL_CODES}\n",
    "print(country_code)"
   ]
  },
  {
   "cell_type": "code",
   "execution_count": 3,
   "metadata": {},
   "outputs": [
    {
     "data": {
      "text/plain": [
       "{1: 'USA', 7: 'RUSSIA', 44: 'UK', 86: 'CHINA', 91: 'INDIA'}"
      ]
     },
     "execution_count": 3,
     "metadata": {},
     "output_type": "execute_result"
    }
   ],
   "source": [
    "# We can reverse pairs again\n",
    "{code: country.upper() for country, code in country_code.items()}"
   ]
  },
  {
   "cell_type": "markdown",
   "metadata": {},
   "source": [
    "# Fetch and update word occurences from index in a single line\n",
    "- saved in fluent folder as `index.py`\n",
    "\n",
    "```python\n",
    "\"\"\"Build an index mapping word -> list of occurences\"\"\"\n",
    "\n",
    "import sys\n",
    "import re\n",
    "\n",
    "WORD_RE = re.compile(r'\\w+')\n",
    "\n",
    "index = {}\n",
    "with open(sys.argv[1], encoding='utf-8') as fp:\n",
    "         for line_no, line in enumerate(fp,1):\n",
    "            for match in WORD_RE.findfilter(line):\n",
    "                word = match.group()\n",
    "                column_no = match.start()+1\n",
    "                location = (line_no, column_no)\n",
    "                index.setdefault(word, []).append(location)\n",
    "                \n",
    "# print in alphabetical order\n",
    "# key, not calling str.upper. \n",
    "# Just passing a reference to that method to sorted\n",
    "# so sorted function can use it it to normalize the words for sorting\n",
    "for word in sorted(index, key=str.upper):\n",
    "    print(word, index[word])\n",
    "    \n",
    "# run in terminal with... \n",
    "# README.md is the text file we are analysing but can be a diff file\n",
    "python3 index.py README.md\n",
    "```"
   ]
  },
  {
   "cell_type": "code",
   "execution_count": null,
   "metadata": {},
   "outputs": [],
   "source": []
  },
  {
   "cell_type": "code",
   "execution_count": null,
   "metadata": {},
   "outputs": [],
   "source": []
  }
 ],
 "metadata": {
  "kernelspec": {
   "display_name": "Python 3",
   "language": "python",
   "name": "python3"
  },
  "language_info": {
   "codemirror_mode": {
    "name": "ipython",
    "version": 3
   },
   "file_extension": ".py",
   "mimetype": "text/x-python",
   "name": "python",
   "nbconvert_exporter": "python",
   "pygments_lexer": "ipython3",
   "version": "3.6.2"
  }
 },
 "nbformat": 4,
 "nbformat_minor": 2
}
