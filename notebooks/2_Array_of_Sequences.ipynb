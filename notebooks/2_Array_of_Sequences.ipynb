{
 "cells": [
  {
   "cell_type": "markdown",
   "metadata": {},
   "source": [
    "Container sequences\n",
    "- list, tuple and collections.deque() can hold items of different type\n",
    "- hold references to objects they contain\n",
    "\n",
    "Flat sequences\n",
    "- str, bytes, bytearray, memoryview, and array.array hold items of one type\n",
    "- physically store value of each item in own memory space\n",
    "\n",
    "Immutabe\n",
    "- Tuple, string, bytes\n",
    "\n",
    "Mutable\n",
    "- list, collections.deque, bytearray, memoryview, and array.array\n",
    "\n",
    "![image](images/sequences.png)"
   ]
  },
  {
   "cell_type": "markdown",
   "metadata": {},
   "source": [
    "# List Comprehensions\n",
    "The purpose of list comprehensions (vs for loops) is explicit: To build lists"
   ]
  },
  {
   "cell_type": "code",
   "execution_count": 7,
   "metadata": {},
   "outputs": [
    {
     "name": "stdout",
     "output_type": "stream",
     "text": [
      "[('black', 'S'), ('black', 'M'), ('black', 'L'), ('white', 'S'), ('white', 'M'), ('white', 'L')]\n",
      "[('black', 'S'), ('white', 'S'), ('black', 'M'), ('white', 'M'), ('black', 'L'), ('white', 'L')]\n"
     ]
    }
   ],
   "source": [
    "# Cartesian Products\n",
    "colors = ['black', 'white']\n",
    "sizes = ['S', 'M', 'L']\n",
    "\n",
    "tshirts_color_first = [(color, size) for color in colors for size in sizes]\n",
    "print(tshirts_color_first)\n",
    "\n",
    "tshirts_size_first = [(color, size) for size in sizes for color in colors]\n",
    "print(tshirts_size_first)"
   ]
  },
  {
   "cell_type": "markdown",
   "metadata": {},
   "source": [
    "# Generator Expressions\n",
    "- Below, the six item list of tshirts is NEVER built in memory: the generator expression feeds the `for` loop producing one item at a time."
   ]
  },
  {
   "cell_type": "code",
   "execution_count": 8,
   "metadata": {},
   "outputs": [
    {
     "name": "stdout",
     "output_type": "stream",
     "text": [
      "black S\n",
      "black M\n",
      "black L\n",
      "white S\n",
      "white M\n",
      "white L\n"
     ]
    }
   ],
   "source": [
    "# Cartesian generator\n",
    "colors = ['black', 'white']\n",
    "sizes = ['S', 'M', 'L']\n",
    "\n",
    "for tshirt in ('%s %s' % (c,s) for c in colors for s in sizes):\n",
    "    print(tshirt)"
   ]
  },
  {
   "cell_type": "markdown",
   "metadata": {},
   "source": [
    "# Tuples used as records\n",
    "- Fixed number of items\n",
    "- Each item holds data for one field and position of item gives its meaning"
   ]
  },
  {
   "cell_type": "code",
   "execution_count": 10,
   "metadata": {},
   "outputs": [
    {
     "name": "stdout",
     "output_type": "stream",
     "text": [
      "FRA/789\n",
      "GBR/456\n",
      "USA/123\n"
     ]
    }
   ],
   "source": [
    "# As we iterate over the list passport is bound to each tuple\n",
    "traveler_ids = [('USA', '123'), ('GBR', '456'), ('FRA', '789')]\n",
    "for passport in sorted(traveler_ids):\n",
    "    print('%s/%s' % passport)"
   ]
  },
  {
   "cell_type": "markdown",
   "metadata": {},
   "source": [
    "# Tuple unpacking\n",
    "- The iterable must receive oneitem per variable in receiving tuple, unless you use a (*) to capture excess items"
   ]
  },
  {
   "cell_type": "code",
   "execution_count": 14,
   "metadata": {},
   "outputs": [
    {
     "name": "stdout",
     "output_type": "stream",
     "text": [
      "2 4\n"
     ]
    }
   ],
   "source": [
    "# Unpack t\n",
    "t = (20, 8)\n",
    "quotient, remainder = divmod(*t)\n",
    "print(quotient, remainder)"
   ]
  },
  {
   "cell_type": "code",
   "execution_count": 13,
   "metadata": {},
   "outputs": [
    {
     "name": "stdout",
     "output_type": "stream",
     "text": [
      "idrsa.pub\n"
     ]
    }
   ],
   "source": [
    "# os.path.split() function builds a tuple (path, last_part) from a filesystem path\n",
    "# also use a dummy variable '_' for the stuff we dont care about\n",
    "import os\n",
    "_, filename = os.path.split('/home/dan/.shh/idrsa.pub')\n",
    "print(filename)"
   ]
  },
  {
   "cell_type": "code",
   "execution_count": 17,
   "metadata": {},
   "outputs": [
    {
     "name": "stdout",
     "output_type": "stream",
     "text": [
      "0 [1, 2] 3 4\n"
     ]
    }
   ],
   "source": [
    "a, *body, c, d = range(5)\n",
    "print(a,body,c,d)"
   ]
  },
  {
   "cell_type": "markdown",
   "metadata": {},
   "source": [
    "# Named tuples\n",
    "- collections.namedtuple is a factory that produces subclasses of tuple enhanced with field names and a class name, which helps with debugging\n",
    "- same memory as tuple, the field names are stored in the class\n",
    "- less memory than a regular object as they dont store attributes in a per-instance `__dict__`.\n",
    "- Two parameters\n",
    "    1. A class name\n",
    "    2. A list of field names (a. iterable of strings or b. a single-space delimited string"
   ]
  },
  {
   "cell_type": "code",
   "execution_count": 18,
   "metadata": {},
   "outputs": [
    {
     "name": "stdout",
     "output_type": "stream",
     "text": [
      "(35.689722, 139.691667)\n"
     ]
    }
   ],
   "source": [
    "from collections import namedtuple\n",
    "City = namedtuple('City', 'name country population coordinates')\n",
    "tokyo = City('tokyo', 'Japan', 36.933, (35.689722, 139.691667))\n",
    "print(tokyo.coordinates)"
   ]
  },
  {
   "cell_type": "markdown",
   "metadata": {},
   "source": [
    "`namedtuple` also has a few additional attributes than those inherited from standard tuples.\n",
    "\n",
    "Most useful:\n",
    "- `_fields` class attribute\n",
    "- `_make(iterable)` class method\n",
    "- `_asdict()` instance method"
   ]
  },
  {
   "cell_type": "code",
   "execution_count": 23,
   "metadata": {},
   "outputs": [
    {
     "name": "stdout",
     "output_type": "stream",
     "text": [
      "City._fields:  ('name', 'country', 'population', 'coordinates')\n"
     ]
    }
   ],
   "source": [
    "# _fields\n",
    "print('City._fields: ', City._fields)"
   ]
  },
  {
   "cell_type": "code",
   "execution_count": 26,
   "metadata": {},
   "outputs": [
    {
     "data": {
      "text/plain": [
       "City(name='Delhi', country='India', population=21.935, coordinates=Latlong(lat=28.613889, long=77.208889))"
      ]
     },
     "execution_count": 26,
     "metadata": {},
     "output_type": "execute_result"
    }
   ],
   "source": [
    "# _make(iterable)\n",
    "Latlong = namedtuple('Latlong', 'lat long') # make a namedtuple to accept delhi coordinate data\n",
    "delhi_data = ('Delhi', 'India', 21.935, Latlong(28.613889, 77.208889))\n",
    "delhi = City._make(delhi_data)\n",
    "delhi"
   ]
  },
  {
   "cell_type": "code",
   "execution_count": 27,
   "metadata": {},
   "outputs": [
    {
     "data": {
      "text/plain": [
       "OrderedDict([('name', 'Delhi'),\n",
       "             ('country', 'India'),\n",
       "             ('population', 21.935),\n",
       "             ('coordinates', Latlong(lat=28.613889, long=77.208889))])"
      ]
     },
     "execution_count": 27,
     "metadata": {},
     "output_type": "execute_result"
    }
   ],
   "source": [
    "# _asdict\n",
    "delhi._asdict()"
   ]
  },
  {
   "cell_type": "markdown",
   "metadata": {},
   "source": [
    "# Slicing\n",
    "- lists, tuples and strings support slicing\n",
    "- seq[start:stop:step]\n",
    "\n",
    "Python calls `seq.__getitem__(slice(start,stop, step))`"
   ]
  },
  {
   "cell_type": "code",
   "execution_count": 30,
   "metadata": {},
   "outputs": [
    {
     "data": {
      "text/plain": [
       "'bye'"
      ]
     },
     "execution_count": 30,
     "metadata": {},
     "output_type": "execute_result"
    }
   ],
   "source": [
    "s = 'bicycle'\n",
    "s[::3]"
   ]
  },
  {
   "cell_type": "code",
   "execution_count": 31,
   "metadata": {},
   "outputs": [
    {
     "data": {
      "text/plain": [
       "'elcycib'"
      ]
     },
     "execution_count": 31,
     "metadata": {},
     "output_type": "execute_result"
    }
   ],
   "source": [
    "s[::-1]"
   ]
  },
  {
   "cell_type": "code",
   "execution_count": 33,
   "metadata": {},
   "outputs": [
    {
     "data": {
      "text/plain": [
       "'eccb'"
      ]
     },
     "execution_count": 33,
     "metadata": {},
     "output_type": "execute_result"
    }
   ],
   "source": [
    "s[::-2]"
   ]
  },
  {
   "cell_type": "markdown",
   "metadata": {},
   "source": [
    "# Using + and * with sequences\n",
    "- Both always create a new object and never modify their operands"
   ]
  },
  {
   "cell_type": "code",
   "execution_count": 38,
   "metadata": {},
   "outputs": [
    {
     "data": {
      "text/plain": [
       "[['_', '_', '_'], ['_', '_', '_'], ['_', '_', '_']]"
      ]
     },
     "execution_count": 38,
     "metadata": {},
     "output_type": "execute_result"
    }
   ],
   "source": [
    "# for a listcomp, each iteration builds a row and appends it to the board,\n",
    "# each row is thus, independent\n",
    "tictactoe = [['_'] * 3 for i in range(3)]\n",
    "tictactoe"
   ]
  },
  {
   "cell_type": "code",
   "execution_count": 39,
   "metadata": {},
   "outputs": [
    {
     "data": {
      "text/plain": [
       "[['_', '_', '_'], ['_', '_', 'X'], ['_', '_', '_']]"
      ]
     },
     "execution_count": 39,
     "metadata": {},
     "output_type": "execute_result"
    }
   ],
   "source": [
    "# The independence is proved by the addition of 'x' to a single row\n",
    "tictactoe[1][2] = 'X'\n",
    "tictactoe"
   ]
  },
  {
   "cell_type": "markdown",
   "metadata": {},
   "source": [
    "# Augmented Assignment\n",
    "- `*=` works via the special method `__imul__` for 'in-place multiplication'\n",
    "- `+=` works via the special method `__iadd__` for 'in-place addition'\n",
    "- However, if `__iadd__` is not implemented, Python falls back to calling `__add__`."
   ]
  },
  {
   "cell_type": "code",
   "execution_count": 40,
   "metadata": {},
   "outputs": [
    {
     "name": "stdout",
     "output_type": "stream",
     "text": [
      "Help on built-in function id in module builtins:\n",
      "\n",
      "id(obj, /)\n",
      "    Return the identity of an object.\n",
      "    \n",
      "    This is guaranteed to be unique among simultaneously existing objects.\n",
      "    (CPython uses the object's memory address.)\n",
      "\n"
     ]
    }
   ],
   "source": [
    "help(id)"
   ]
  },
  {
   "cell_type": "code",
   "execution_count": 45,
   "metadata": {},
   "outputs": [
    {
     "name": "stdout",
     "output_type": "stream",
     "text": [
      "l:  [1, 2, 3]\n",
      "id:  4408509640\n",
      "l:  [1, 2, 3, 1, 2, 3]\n",
      "id:  4408509640\n"
     ]
    }
   ],
   "source": [
    "# Inplace multiplication of mutable sequence - list\n",
    "l = [1,2,3]\n",
    "print('l: ', l)\n",
    "print('id: ', id(l))\n",
    "\n",
    "\n",
    "l*=2\n",
    "print('l: ', l)\n",
    "print('id: ', id(l))"
   ]
  },
  {
   "cell_type": "code",
   "execution_count": 46,
   "metadata": {
    "scrolled": true
   },
   "outputs": [
    {
     "name": "stdout",
     "output_type": "stream",
     "text": [
      "t:  (1, 2, 3)\n",
      "id:  4408319720\n",
      "t:  (1, 2, 3, 1, 2, 3)\n",
      "id:  4407537576\n"
     ]
    }
   ],
   "source": [
    "# Inplace multiplication not implemented for an immutable sequence - tuple\n",
    "# new tuple created\n",
    "t = (1, 2, 3)\n",
    "print('t: ', t)\n",
    "print('id: ', id(t))\n",
    "\n",
    "\n",
    "t*=2\n",
    "print('t: ', t)\n",
    "print('id: ', id(t))"
   ]
  },
  {
   "cell_type": "markdown",
   "metadata": {},
   "source": [
    "# Ordered sequences"
   ]
  },
  {
   "cell_type": "code",
   "execution_count": 53,
   "metadata": {},
   "outputs": [
    {
     "name": "stdout",
     "output_type": "stream",
     "text": [
      "li:  [2, 3, 1]  id:  4408509896\n",
      "li:  [1, 2, 3]  id:  4408509896\n"
     ]
    }
   ],
   "source": [
    "# Unlike the built-in function sorted, the list method .sort 'sorts' in-place.\n",
    "li = [2,3,1]\n",
    "print('li: ', li, ' id: ', id(li))\n",
    "li.sort()\n",
    "print('li: ', li, ' id: ', id(li))"
   ]
  },
  {
   "cell_type": "markdown",
   "metadata": {},
   "source": [
    "The bisect module offers two main functions: `bisect` and `insort`\n",
    "- `bisect(haystack, needle)`"
   ]
  },
  {
   "cell_type": "code",
   "execution_count": 57,
   "metadata": {},
   "outputs": [
    {
     "data": {
      "text/plain": [
       "['__builtins__',\n",
       " '__cached__',\n",
       " '__doc__',\n",
       " '__file__',\n",
       " '__loader__',\n",
       " '__name__',\n",
       " '__package__',\n",
       " '__spec__',\n",
       " 'bisect',\n",
       " 'bisect_left',\n",
       " 'bisect_right',\n",
       " 'insort',\n",
       " 'insort_left',\n",
       " 'insort_right']"
      ]
     },
     "execution_count": 57,
     "metadata": {},
     "output_type": "execute_result"
    }
   ],
   "source": [
    "import bisect\n",
    "# help(bisect)\n",
    "dir(bisect)"
   ]
  },
  {
   "cell_type": "code",
   "execution_count": 84,
   "metadata": {},
   "outputs": [
    {
     "name": "stdout",
     "output_type": "stream",
     "text": [
      "DEMO: bisect\n",
      "haystack ->  1   4   5   6   8  12  15  20  21  23  23  26  29  30\n",
      "31 @ 14      |   |   |   |   |   |   |   |   |   |   |   |   |   |31\n",
      "30 @ 14      |   |   |   |   |   |   |   |   |   |   |   |   |   |30\n",
      "29 @ 13      |   |   |   |   |   |   |   |   |   |   |   |   |29\n",
      "23 @ 11      |   |   |   |   |   |   |   |   |   |   |23\n",
      "22 @  9      |   |   |   |   |   |   |   |   |22\n",
      "10 @  5      |   |   |   |   |10\n",
      " 8 @  5      |   |   |   |   |8 \n",
      " 5 @  3      |   |   |5 \n",
      " 2 @  1      |2 \n",
      " 1 @  1      |1 \n",
      " 0 @  0   0 \n"
     ]
    }
   ],
   "source": [
    "# bisect finds insertion points for items in a sorted sequence\n",
    "import bisect\n",
    "import sys\n",
    "\n",
    "HAYSTACK = [1,4,5,6,8,12,15,20,21,23,23,26,29,30]\n",
    "NEEDLES = [0,1,2,5,8,10,22,23,29,30,31]\n",
    "\n",
    "ROW_FMT = '{0:2d} @ {1:2d}   {2}{0:<2d}'\n",
    "\n",
    "def demo(bisect_fn):\n",
    "    for needle in reversed(NEEDLES):\n",
    "        # use chosen bisect function to get insertion point\n",
    "        position = bisect_fn(HAYSTACK, needle)\n",
    "        # build a pattern of vertical bars proportional to the offset\n",
    "        offset = position * '   |'\n",
    "        # print formatted row showing needle and insertion point\n",
    "        print(ROW_FMT.format(needle, position, offset))\n",
    "        \n",
    "if __name__ == '__main__':\n",
    "    \n",
    "    # Chose the bisect function to use based upon the last command line argument\n",
    "    if sys.argv[-1] == 'left':\n",
    "        bisect_fn = bisect.bisect_left\n",
    "    else:\n",
    "        bisect_fn = bisect.bisect\n",
    "        \n",
    "    # print header + function name\n",
    "    print('DEMO:', bisect_fn.__name__) \n",
    "    print('haystack ->', '  '.join('%2d' % n for n in HAYSTACK))\n",
    "    demo(bisect_fn)"
   ]
  },
  {
   "cell_type": "code",
   "execution_count": 90,
   "metadata": {},
   "outputs": [],
   "source": [
    "def grade(score, breakpoints=[60, 70, 80, 90], grades='FDCBA'):\n",
    "    i = bisect.bisect(breakpoints, score)\n",
    "    return grades[i]"
   ]
  },
  {
   "cell_type": "code",
   "execution_count": 91,
   "metadata": {},
   "outputs": [
    {
     "data": {
      "text/plain": [
       "['F', 'A', 'C', 'C', 'B', 'A', 'A']"
      ]
     },
     "execution_count": 91,
     "metadata": {},
     "output_type": "execute_result"
    }
   ],
   "source": [
    "[grade(score) for score in [33, 99, 77, 70, 89, 90, 100]]"
   ]
  },
  {
   "cell_type": "markdown",
   "metadata": {},
   "source": [
    "### inserting with bisect.insort"
   ]
  },
  {
   "cell_type": "code",
   "execution_count": 94,
   "metadata": {},
   "outputs": [
    {
     "name": "stdout",
     "output_type": "stream",
     "text": [
      "10 -> [10]\n",
      " 0 -> [0, 10]\n",
      " 6 -> [0, 6, 10]\n",
      " 8 -> [0, 6, 8, 10]\n",
      " 7 -> [0, 6, 7, 8, 10]\n",
      " 2 -> [0, 2, 6, 7, 8, 10]\n",
      "10 -> [0, 2, 6, 7, 8, 10, 10]\n"
     ]
    }
   ],
   "source": [
    "import bisect\n",
    "import random\n",
    "\n",
    "SIZE = 7\n",
    "\n",
    "random.seed(1729)\n",
    "\n",
    "my_list = []\n",
    "\n",
    "for i in range(SIZE):\n",
    "    new_item = random.randrange(SIZE*2)\n",
    "    bisect.insort(my_list, new_item)\n",
    "    print('%2d ->' % new_item, my_list)"
   ]
  },
  {
   "cell_type": "markdown",
   "metadata": {},
   "source": [
    "# Altenatives to lists\n",
    "- sets\n",
    "- arrays\n",
    "\n",
    "### sets\n",
    "- If code contains lots of containment checks (`is item in my_collection`) consider using a `set`\n",
    "\n",
    "### deque\n",
    "- pop(0) is expensive for lists as entire list has to be shifted, so, better to use deque\n",
    "- Can be bounded in length, if add items to one end and drop from other creates a \"last seen\" deque.\n",
    "\n",
    "### Arrays\n",
    "- support all mutable sequence operations"
   ]
  },
  {
   "cell_type": "code",
   "execution_count": 102,
   "metadata": {},
   "outputs": [
    {
     "data": {
      "text/plain": [
       "0.051056611520245765"
      ]
     },
     "execution_count": 102,
     "metadata": {},
     "output_type": "execute_result"
    }
   ],
   "source": [
    "from array import array\n",
    "from random import random\n",
    "\n",
    "# Create array of double precision floats\n",
    "floats = array('d', (random() for i in range(10**7)))\n",
    "floats[-1]"
   ]
  },
  {
   "cell_type": "code",
   "execution_count": 103,
   "metadata": {},
   "outputs": [],
   "source": [
    "# save array to binary file\n",
    "fp = open('floats.bin', 'wb')\n",
    "floats.tofile(fp)\n",
    "fp.close()"
   ]
  },
  {
   "cell_type": "code",
   "execution_count": 104,
   "metadata": {},
   "outputs": [
    {
     "data": {
      "text/plain": [
       "0.051056611520245765"
      ]
     },
     "execution_count": 104,
     "metadata": {},
     "output_type": "execute_result"
    }
   ],
   "source": [
    "# Creat empty array of doubles\n",
    "floats2 = array('d')\n",
    "\n",
    "# read 10 million numbers from binary file\n",
    "fp = open('floats.bin', 'rb')\n",
    "floats2.fromfile(fp, 10**7)\n",
    "fp.close()\n",
    "floats2[-1]"
   ]
  },
  {
   "cell_type": "code",
   "execution_count": 105,
   "metadata": {},
   "outputs": [
    {
     "data": {
      "text/plain": [
       "True"
      ]
     },
     "execution_count": 105,
     "metadata": {},
     "output_type": "execute_result"
    }
   ],
   "source": [
    "floats2 == floats"
   ]
  },
  {
   "cell_type": "markdown",
   "metadata": {},
   "source": [
    "### memoryview\n",
    "- Built-in `memoryview` class is a shared-memory sequence type that lets you handle slices of arrays without copying bytes\n",
    "- Allows you to share memory between data structures (PIL images, SQLlite databases, NumPy arrays etc) without first copying."
   ]
  },
  {
   "cell_type": "code",
   "execution_count": 108,
   "metadata": {},
   "outputs": [
    {
     "data": {
      "text/plain": [
       "array('d', [1.0, 2.0, 3.0])"
      ]
     },
     "execution_count": 108,
     "metadata": {},
     "output_type": "execute_result"
    }
   ],
   "source": [
    "a = array('d', [1,2,3])\n",
    "a"
   ]
  },
  {
   "cell_type": "code",
   "execution_count": 112,
   "metadata": {},
   "outputs": [
    {
     "data": {
      "text/plain": [
       "array([1, 2, 3])"
      ]
     },
     "execution_count": 112,
     "metadata": {},
     "output_type": "execute_result"
    }
   ],
   "source": [
    "import numpy as np\n",
    "b = np.array([1,2,3])\n",
    "b"
   ]
  },
  {
   "cell_type": "code",
   "execution_count": 113,
   "metadata": {},
   "outputs": [
    {
     "data": {
      "text/plain": [
       "array([ True,  True,  True])"
      ]
     },
     "execution_count": 113,
     "metadata": {},
     "output_type": "execute_result"
    }
   ],
   "source": [
    "a == b"
   ]
  },
  {
   "cell_type": "code",
   "execution_count": null,
   "metadata": {},
   "outputs": [],
   "source": []
  }
 ],
 "metadata": {
  "kernelspec": {
   "display_name": "Python 3",
   "language": "python",
   "name": "python3"
  },
  "language_info": {
   "codemirror_mode": {
    "name": "ipython",
    "version": 3
   },
   "file_extension": ".py",
   "mimetype": "text/x-python",
   "name": "python",
   "nbconvert_exporter": "python",
   "pygments_lexer": "ipython3",
   "version": "3.6.2"
  }
 },
 "nbformat": 4,
 "nbformat_minor": 2
}
